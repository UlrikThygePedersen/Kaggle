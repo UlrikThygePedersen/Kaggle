{
 "cells": [
  {
   "cell_type": "markdown",
   "id": "cca6dae5",
   "metadata": {
    "papermill": {
     "duration": 0.005816,
     "end_time": "2023-01-24T09:47:53.641898",
     "exception": false,
     "start_time": "2023-01-24T09:47:53.636082",
     "status": "completed"
    },
    "tags": []
   },
   "source": [
    "# Reducing Features - Principal Component Analysis\n",
    "\n",
    "![](https://miro.medium.com/max/596/1*QinDfRawRskupf4mU5bYSA.png)\n",
    "\n",
    "**Reference: [Casey Cheng](https://towardsdatascience.com/principal-component-analysis-pca-explained-visually-with-zero-math-1cbf392b9e7d)**"
   ]
  },
  {
   "cell_type": "markdown",
   "id": "bc208c7f",
   "metadata": {
    "papermill": {
     "duration": 0.004418,
     "end_time": "2023-01-24T09:47:53.651689",
     "exception": false,
     "start_time": "2023-01-24T09:47:53.647271",
     "status": "completed"
    },
    "tags": []
   },
   "source": [
    "# Table of Contents\n",
    "\n",
    "* [Introduction](#intro)\n",
    "* [House Keeping](#house)\n",
    "* [Principal Component Analysis](#PCA)\n",
    "* [Applying PCA to our data](#PCAa)\n",
    "* [PCA Analysis](#PCAaa)\n",
    "* [Conclusion](#conc)"
   ]
  },
  {
   "cell_type": "markdown",
   "id": "1c21120c",
   "metadata": {
    "papermill": {
     "duration": 0.004348,
     "end_time": "2023-01-24T09:47:53.660690",
     "exception": false,
     "start_time": "2023-01-24T09:47:53.656342",
     "status": "completed"
    },
    "tags": []
   },
   "source": [
    "# Introduction <a id=\"intro\"></a>\n",
    "\n",
    "**Reducing Features - Principal Component Analysis (PCA)**\n",
    "\n",
    "In this notebook I will explain PCA, the idea behind, how it works and when to use it. Data is taken from the [House Prices - Advanced Regression Techniques](https://www.kaggle.com/competitions/house-prices-advanced-regression-techniques) dataset.\n",
    "\n",
    "The goal is to expand your data science toolkit and help you deal with larger datasets with a lot of features.\n",
    "\n",
    "**Hope you enjoy, let me know how I can improve, and if you liked it, an upvote would help me out alot!**\n",
    "\n",
    "**Looking for Exploratory Data Analysis on this dataset? Check out my notebook [Exploratory Data Analysis - House Prices](https://www.kaggle.com/code/ulrikthygepedersen/exploratory-data-analysis-house-prices/notebook)**\n",
    "\n",
    "**Want to learn more about making your data ready for modelling? Check out my notebook on [Feature Engineering - House Prices](https://www.kaggle.com/code/ulrikthygepedersen/feature-engineering-house-prices/notebook)**\n",
    "\n",
    "**Want to learn more about Random Forest Modelling to predict Sale Price? Check out my notebook on [Random Forest Regressor Model](https://www.kaggle.com/code/ulrikthygepedersen/random-forest-regressor-model-house-prices)**"
   ]
  },
  {
   "cell_type": "markdown",
   "id": "b1095ae3",
   "metadata": {
    "papermill": {
     "duration": 0.004251,
     "end_time": "2023-01-24T09:47:53.669484",
     "exception": false,
     "start_time": "2023-01-24T09:47:53.665233",
     "status": "completed"
    },
    "tags": []
   },
   "source": [
    "# The curse of dimensionality\n",
    "\n",
    "The curse of dimensionality is one of the most commonly occurring problems when training models in machine learning. It is a problem that arises when working with data that has a high number of dimensions in the feature space. Many machine learning problems involve thousands of features for each training instance. \n",
    "\n",
    "All these features make training extremely slow and they can also make it much harder to find a good solution. Algorithms cannot effectively and efficiently train on the data because of the sheer size of the feature space. That kind of problem is often referred to as the ***curse of dimensionality***.\n",
    "\n",
    "Dimensionality reduction techniques, such as principal component analysis (PCA) help to address the curse of dimensionality. Dimensionality reduction algorithms project high-dimensional data to a low-dimensional space. **Once the data is in the low-dimensional space, machine learning algorithms are able to identify interesting patterns more effectively and efficiently.**"
   ]
  },
  {
   "cell_type": "markdown",
   "id": "f60e0a57",
   "metadata": {
    "papermill": {
     "duration": 0.004351,
     "end_time": "2023-01-24T09:47:53.678471",
     "exception": false,
     "start_time": "2023-01-24T09:47:53.674120",
     "status": "completed"
    },
    "tags": []
   },
   "source": [
    "# Principal Component Analysis (PCA)\n",
    "\n",
    "The main concept behind the PCA is to consider the correlation among features. If the correlation is very high among a subset of the features, PCA will attempt to combine the highly correlated features and represent this data with a smaller number of linearly uncorrelated features. \n",
    "\n",
    "The algorithm keeps performing this correlation reduction, finding the directions of maximum variance in the original high-dimensional data and projecting them onto a smaller dimensional space. These newly derived components are known as **principal components.**"
   ]
  },
  {
   "cell_type": "markdown",
   "id": "52efc364",
   "metadata": {
    "papermill": {
     "duration": 0.004544,
     "end_time": "2023-01-24T09:47:53.687560",
     "exception": false,
     "start_time": "2023-01-24T09:47:53.683016",
     "status": "completed"
    },
    "tags": []
   },
   "source": [
    "# House Keeping <a id=\"house\"></a>\n",
    "\n",
    "## Import Libraries, load dataset and do a short summary"
   ]
  },
  {
   "cell_type": "code",
   "execution_count": 1,
   "id": "8f35f2be",
   "metadata": {
    "_kg_hide-input": true,
    "execution": {
     "iopub.execute_input": "2023-01-24T09:47:53.699301Z",
     "iopub.status.busy": "2023-01-24T09:47:53.698627Z",
     "iopub.status.idle": "2023-01-24T09:47:55.035406Z",
     "shell.execute_reply": "2023-01-24T09:47:55.033896Z"
    },
    "papermill": {
     "duration": 1.346962,
     "end_time": "2023-01-24T09:47:55.039113",
     "exception": false,
     "start_time": "2023-01-24T09:47:53.692151",
     "status": "completed"
    },
    "tags": []
   },
   "outputs": [
    {
     "name": "stdout",
     "output_type": "stream",
     "text": [
      "\n",
      "Train Dataset:\n",
      "Loaded train dataset with shape (1460, 81) (1460 rows and 81 columns)\n",
      "\n",
      "Test Dataset:\n",
      "Loaded test dataset with shape (1459, 80) (1459 rows and 80 columns)\n",
      "\n",
      "Sample Submission Dataset:\n",
      "Loaded sample submission dataset with shape (1459, 2) (1459 rows and 2 columns)\n",
      "\n"
     ]
    }
   ],
   "source": [
    "# import libraries\n",
    "import numpy as np\n",
    "import pandas as pd\n",
    "import matplotlib.pyplot as plt\n",
    "\n",
    "from sklearn.preprocessing import StandardScaler\n",
    "from sklearn.decomposition import PCA\n",
    "\n",
    "# load datasets\n",
    "df_train = pd.read_csv('/kaggle/input/house-prices-advanced-regression-techniques/train.csv')\n",
    "df_test = pd.read_csv('/kaggle/input/house-prices-advanced-regression-techniques/test.csv')\n",
    "df_sample_submission = pd.read_csv('/kaggle/input/house-prices-advanced-regression-techniques/sample_submission.csv')\n",
    "\n",
    "#combine to a single dataframe with all data for feature engineering\n",
    "df = pd.concat([df_train, df_test])\n",
    "\n",
    "# print dataset shape and columns\n",
    "trow, tcol = df_train.shape\n",
    "erow, ecol = df_test.shape\n",
    "srow, scol = df_sample_submission.shape\n",
    "\n",
    "print(f'''\n",
    "Train Dataset:\n",
    "Loaded train dataset with shape {df_train.shape} ({trow} rows and {tcol} columns)\n",
    "\n",
    "Test Dataset:\n",
    "Loaded test dataset with shape {df_test.shape} ({erow} rows and {ecol} columns)\n",
    "\n",
    "Sample Submission Dataset:\n",
    "Loaded sample submission dataset with shape {df_sample_submission.shape} ({srow} rows and {scol} columns)\n",
    "''')"
   ]
  },
  {
   "cell_type": "markdown",
   "id": "243048c9",
   "metadata": {
    "papermill": {
     "duration": 0.004753,
     "end_time": "2023-01-24T09:47:55.049598",
     "exception": false,
     "start_time": "2023-01-24T09:47:55.044845",
     "status": "completed"
    },
    "tags": []
   },
   "source": [
    "# Simple statistics of our dataset"
   ]
  },
  {
   "cell_type": "code",
   "execution_count": 2,
   "id": "e83a3c9d",
   "metadata": {
    "execution": {
     "iopub.execute_input": "2023-01-24T09:47:55.060918Z",
     "iopub.status.busy": "2023-01-24T09:47:55.060464Z",
     "iopub.status.idle": "2023-01-24T09:47:55.093802Z",
     "shell.execute_reply": "2023-01-24T09:47:55.092378Z"
    },
    "papermill": {
     "duration": 0.042101,
     "end_time": "2023-01-24T09:47:55.096519",
     "exception": false,
     "start_time": "2023-01-24T09:47:55.054418",
     "status": "completed"
    },
    "tags": []
   },
   "outputs": [
    {
     "data": {
      "text/html": [
       "<div>\n",
       "<style scoped>\n",
       "    .dataframe tbody tr th:only-of-type {\n",
       "        vertical-align: middle;\n",
       "    }\n",
       "\n",
       "    .dataframe tbody tr th {\n",
       "        vertical-align: top;\n",
       "    }\n",
       "\n",
       "    .dataframe thead th {\n",
       "        text-align: right;\n",
       "    }\n",
       "</style>\n",
       "<table border=\"1\" class=\"dataframe\">\n",
       "  <thead>\n",
       "    <tr style=\"text-align: right;\">\n",
       "      <th></th>\n",
       "      <th>Id</th>\n",
       "      <th>MSSubClass</th>\n",
       "      <th>MSZoning</th>\n",
       "      <th>LotFrontage</th>\n",
       "      <th>LotArea</th>\n",
       "      <th>Street</th>\n",
       "      <th>Alley</th>\n",
       "      <th>LotShape</th>\n",
       "      <th>LandContour</th>\n",
       "      <th>Utilities</th>\n",
       "      <th>...</th>\n",
       "      <th>PoolArea</th>\n",
       "      <th>PoolQC</th>\n",
       "      <th>Fence</th>\n",
       "      <th>MiscFeature</th>\n",
       "      <th>MiscVal</th>\n",
       "      <th>MoSold</th>\n",
       "      <th>YrSold</th>\n",
       "      <th>SaleType</th>\n",
       "      <th>SaleCondition</th>\n",
       "      <th>SalePrice</th>\n",
       "    </tr>\n",
       "  </thead>\n",
       "  <tbody>\n",
       "    <tr>\n",
       "      <th>0</th>\n",
       "      <td>1</td>\n",
       "      <td>60</td>\n",
       "      <td>RL</td>\n",
       "      <td>65.0</td>\n",
       "      <td>8450</td>\n",
       "      <td>Pave</td>\n",
       "      <td>NaN</td>\n",
       "      <td>Reg</td>\n",
       "      <td>Lvl</td>\n",
       "      <td>AllPub</td>\n",
       "      <td>...</td>\n",
       "      <td>0</td>\n",
       "      <td>NaN</td>\n",
       "      <td>NaN</td>\n",
       "      <td>NaN</td>\n",
       "      <td>0</td>\n",
       "      <td>2</td>\n",
       "      <td>2008</td>\n",
       "      <td>WD</td>\n",
       "      <td>Normal</td>\n",
       "      <td>208500.0</td>\n",
       "    </tr>\n",
       "    <tr>\n",
       "      <th>1</th>\n",
       "      <td>2</td>\n",
       "      <td>20</td>\n",
       "      <td>RL</td>\n",
       "      <td>80.0</td>\n",
       "      <td>9600</td>\n",
       "      <td>Pave</td>\n",
       "      <td>NaN</td>\n",
       "      <td>Reg</td>\n",
       "      <td>Lvl</td>\n",
       "      <td>AllPub</td>\n",
       "      <td>...</td>\n",
       "      <td>0</td>\n",
       "      <td>NaN</td>\n",
       "      <td>NaN</td>\n",
       "      <td>NaN</td>\n",
       "      <td>0</td>\n",
       "      <td>5</td>\n",
       "      <td>2007</td>\n",
       "      <td>WD</td>\n",
       "      <td>Normal</td>\n",
       "      <td>181500.0</td>\n",
       "    </tr>\n",
       "    <tr>\n",
       "      <th>2</th>\n",
       "      <td>3</td>\n",
       "      <td>60</td>\n",
       "      <td>RL</td>\n",
       "      <td>68.0</td>\n",
       "      <td>11250</td>\n",
       "      <td>Pave</td>\n",
       "      <td>NaN</td>\n",
       "      <td>IR1</td>\n",
       "      <td>Lvl</td>\n",
       "      <td>AllPub</td>\n",
       "      <td>...</td>\n",
       "      <td>0</td>\n",
       "      <td>NaN</td>\n",
       "      <td>NaN</td>\n",
       "      <td>NaN</td>\n",
       "      <td>0</td>\n",
       "      <td>9</td>\n",
       "      <td>2008</td>\n",
       "      <td>WD</td>\n",
       "      <td>Normal</td>\n",
       "      <td>223500.0</td>\n",
       "    </tr>\n",
       "    <tr>\n",
       "      <th>3</th>\n",
       "      <td>4</td>\n",
       "      <td>70</td>\n",
       "      <td>RL</td>\n",
       "      <td>60.0</td>\n",
       "      <td>9550</td>\n",
       "      <td>Pave</td>\n",
       "      <td>NaN</td>\n",
       "      <td>IR1</td>\n",
       "      <td>Lvl</td>\n",
       "      <td>AllPub</td>\n",
       "      <td>...</td>\n",
       "      <td>0</td>\n",
       "      <td>NaN</td>\n",
       "      <td>NaN</td>\n",
       "      <td>NaN</td>\n",
       "      <td>0</td>\n",
       "      <td>2</td>\n",
       "      <td>2006</td>\n",
       "      <td>WD</td>\n",
       "      <td>Abnorml</td>\n",
       "      <td>140000.0</td>\n",
       "    </tr>\n",
       "    <tr>\n",
       "      <th>4</th>\n",
       "      <td>5</td>\n",
       "      <td>60</td>\n",
       "      <td>RL</td>\n",
       "      <td>84.0</td>\n",
       "      <td>14260</td>\n",
       "      <td>Pave</td>\n",
       "      <td>NaN</td>\n",
       "      <td>IR1</td>\n",
       "      <td>Lvl</td>\n",
       "      <td>AllPub</td>\n",
       "      <td>...</td>\n",
       "      <td>0</td>\n",
       "      <td>NaN</td>\n",
       "      <td>NaN</td>\n",
       "      <td>NaN</td>\n",
       "      <td>0</td>\n",
       "      <td>12</td>\n",
       "      <td>2008</td>\n",
       "      <td>WD</td>\n",
       "      <td>Normal</td>\n",
       "      <td>250000.0</td>\n",
       "    </tr>\n",
       "  </tbody>\n",
       "</table>\n",
       "<p>5 rows × 81 columns</p>\n",
       "</div>"
      ],
      "text/plain": [
       "   Id  MSSubClass MSZoning  LotFrontage  LotArea Street Alley LotShape  \\\n",
       "0   1          60       RL         65.0     8450   Pave   NaN      Reg   \n",
       "1   2          20       RL         80.0     9600   Pave   NaN      Reg   \n",
       "2   3          60       RL         68.0    11250   Pave   NaN      IR1   \n",
       "3   4          70       RL         60.0     9550   Pave   NaN      IR1   \n",
       "4   5          60       RL         84.0    14260   Pave   NaN      IR1   \n",
       "\n",
       "  LandContour Utilities  ... PoolArea PoolQC Fence MiscFeature MiscVal MoSold  \\\n",
       "0         Lvl    AllPub  ...        0    NaN   NaN         NaN       0      2   \n",
       "1         Lvl    AllPub  ...        0    NaN   NaN         NaN       0      5   \n",
       "2         Lvl    AllPub  ...        0    NaN   NaN         NaN       0      9   \n",
       "3         Lvl    AllPub  ...        0    NaN   NaN         NaN       0      2   \n",
       "4         Lvl    AllPub  ...        0    NaN   NaN         NaN       0     12   \n",
       "\n",
       "  YrSold  SaleType  SaleCondition  SalePrice  \n",
       "0   2008        WD         Normal   208500.0  \n",
       "1   2007        WD         Normal   181500.0  \n",
       "2   2008        WD         Normal   223500.0  \n",
       "3   2006        WD        Abnorml   140000.0  \n",
       "4   2008        WD         Normal   250000.0  \n",
       "\n",
       "[5 rows x 81 columns]"
      ]
     },
     "execution_count": 2,
     "metadata": {},
     "output_type": "execute_result"
    }
   ],
   "source": [
    "df.head()"
   ]
  },
  {
   "cell_type": "code",
   "execution_count": 3,
   "id": "961b7f27",
   "metadata": {
    "_kg_hide-output": true,
    "execution": {
     "iopub.execute_input": "2023-01-24T09:47:55.109102Z",
     "iopub.status.busy": "2023-01-24T09:47:55.108577Z",
     "iopub.status.idle": "2023-01-24T09:47:55.150522Z",
     "shell.execute_reply": "2023-01-24T09:47:55.149627Z"
    },
    "papermill": {
     "duration": 0.052379,
     "end_time": "2023-01-24T09:47:55.154174",
     "exception": false,
     "start_time": "2023-01-24T09:47:55.101795",
     "status": "completed"
    },
    "tags": []
   },
   "outputs": [
    {
     "name": "stdout",
     "output_type": "stream",
     "text": [
      "<class 'pandas.core.frame.DataFrame'>\n",
      "Int64Index: 2919 entries, 0 to 1458\n",
      "Data columns (total 81 columns):\n",
      " #   Column         Non-Null Count  Dtype  \n",
      "---  ------         --------------  -----  \n",
      " 0   Id             2919 non-null   int64  \n",
      " 1   MSSubClass     2919 non-null   int64  \n",
      " 2   MSZoning       2915 non-null   object \n",
      " 3   LotFrontage    2433 non-null   float64\n",
      " 4   LotArea        2919 non-null   int64  \n",
      " 5   Street         2919 non-null   object \n",
      " 6   Alley          198 non-null    object \n",
      " 7   LotShape       2919 non-null   object \n",
      " 8   LandContour    2919 non-null   object \n",
      " 9   Utilities      2917 non-null   object \n",
      " 10  LotConfig      2919 non-null   object \n",
      " 11  LandSlope      2919 non-null   object \n",
      " 12  Neighborhood   2919 non-null   object \n",
      " 13  Condition1     2919 non-null   object \n",
      " 14  Condition2     2919 non-null   object \n",
      " 15  BldgType       2919 non-null   object \n",
      " 16  HouseStyle     2919 non-null   object \n",
      " 17  OverallQual    2919 non-null   int64  \n",
      " 18  OverallCond    2919 non-null   int64  \n",
      " 19  YearBuilt      2919 non-null   int64  \n",
      " 20  YearRemodAdd   2919 non-null   int64  \n",
      " 21  RoofStyle      2919 non-null   object \n",
      " 22  RoofMatl       2919 non-null   object \n",
      " 23  Exterior1st    2918 non-null   object \n",
      " 24  Exterior2nd    2918 non-null   object \n",
      " 25  MasVnrType     2895 non-null   object \n",
      " 26  MasVnrArea     2896 non-null   float64\n",
      " 27  ExterQual      2919 non-null   object \n",
      " 28  ExterCond      2919 non-null   object \n",
      " 29  Foundation     2919 non-null   object \n",
      " 30  BsmtQual       2838 non-null   object \n",
      " 31  BsmtCond       2837 non-null   object \n",
      " 32  BsmtExposure   2837 non-null   object \n",
      " 33  BsmtFinType1   2840 non-null   object \n",
      " 34  BsmtFinSF1     2918 non-null   float64\n",
      " 35  BsmtFinType2   2839 non-null   object \n",
      " 36  BsmtFinSF2     2918 non-null   float64\n",
      " 37  BsmtUnfSF      2918 non-null   float64\n",
      " 38  TotalBsmtSF    2918 non-null   float64\n",
      " 39  Heating        2919 non-null   object \n",
      " 40  HeatingQC      2919 non-null   object \n",
      " 41  CentralAir     2919 non-null   object \n",
      " 42  Electrical     2918 non-null   object \n",
      " 43  1stFlrSF       2919 non-null   int64  \n",
      " 44  2ndFlrSF       2919 non-null   int64  \n",
      " 45  LowQualFinSF   2919 non-null   int64  \n",
      " 46  GrLivArea      2919 non-null   int64  \n",
      " 47  BsmtFullBath   2917 non-null   float64\n",
      " 48  BsmtHalfBath   2917 non-null   float64\n",
      " 49  FullBath       2919 non-null   int64  \n",
      " 50  HalfBath       2919 non-null   int64  \n",
      " 51  BedroomAbvGr   2919 non-null   int64  \n",
      " 52  KitchenAbvGr   2919 non-null   int64  \n",
      " 53  KitchenQual    2918 non-null   object \n",
      " 54  TotRmsAbvGrd   2919 non-null   int64  \n",
      " 55  Functional     2917 non-null   object \n",
      " 56  Fireplaces     2919 non-null   int64  \n",
      " 57  FireplaceQu    1499 non-null   object \n",
      " 58  GarageType     2762 non-null   object \n",
      " 59  GarageYrBlt    2760 non-null   float64\n",
      " 60  GarageFinish   2760 non-null   object \n",
      " 61  GarageCars     2918 non-null   float64\n",
      " 62  GarageArea     2918 non-null   float64\n",
      " 63  GarageQual     2760 non-null   object \n",
      " 64  GarageCond     2760 non-null   object \n",
      " 65  PavedDrive     2919 non-null   object \n",
      " 66  WoodDeckSF     2919 non-null   int64  \n",
      " 67  OpenPorchSF    2919 non-null   int64  \n",
      " 68  EnclosedPorch  2919 non-null   int64  \n",
      " 69  3SsnPorch      2919 non-null   int64  \n",
      " 70  ScreenPorch    2919 non-null   int64  \n",
      " 71  PoolArea       2919 non-null   int64  \n",
      " 72  PoolQC         10 non-null     object \n",
      " 73  Fence          571 non-null    object \n",
      " 74  MiscFeature    105 non-null    object \n",
      " 75  MiscVal        2919 non-null   int64  \n",
      " 76  MoSold         2919 non-null   int64  \n",
      " 77  YrSold         2919 non-null   int64  \n",
      " 78  SaleType       2918 non-null   object \n",
      " 79  SaleCondition  2919 non-null   object \n",
      " 80  SalePrice      1460 non-null   float64\n",
      "dtypes: float64(12), int64(26), object(43)\n",
      "memory usage: 1.8+ MB\n"
     ]
    }
   ],
   "source": [
    "df.info()"
   ]
  },
  {
   "cell_type": "code",
   "execution_count": 4,
   "id": "93eb5c7b",
   "metadata": {
    "execution": {
     "iopub.execute_input": "2023-01-24T09:47:55.167386Z",
     "iopub.status.busy": "2023-01-24T09:47:55.166743Z",
     "iopub.status.idle": "2023-01-24T09:47:55.285583Z",
     "shell.execute_reply": "2023-01-24T09:47:55.284260Z"
    },
    "papermill": {
     "duration": 0.128417,
     "end_time": "2023-01-24T09:47:55.288258",
     "exception": false,
     "start_time": "2023-01-24T09:47:55.159841",
     "status": "completed"
    },
    "tags": []
   },
   "outputs": [
    {
     "data": {
      "text/html": [
       "<div>\n",
       "<style scoped>\n",
       "    .dataframe tbody tr th:only-of-type {\n",
       "        vertical-align: middle;\n",
       "    }\n",
       "\n",
       "    .dataframe tbody tr th {\n",
       "        vertical-align: top;\n",
       "    }\n",
       "\n",
       "    .dataframe thead th {\n",
       "        text-align: right;\n",
       "    }\n",
       "</style>\n",
       "<table border=\"1\" class=\"dataframe\">\n",
       "  <thead>\n",
       "    <tr style=\"text-align: right;\">\n",
       "      <th></th>\n",
       "      <th>Id</th>\n",
       "      <th>MSSubClass</th>\n",
       "      <th>LotFrontage</th>\n",
       "      <th>LotArea</th>\n",
       "      <th>OverallQual</th>\n",
       "      <th>OverallCond</th>\n",
       "      <th>YearBuilt</th>\n",
       "      <th>YearRemodAdd</th>\n",
       "      <th>MasVnrArea</th>\n",
       "      <th>BsmtFinSF1</th>\n",
       "      <th>...</th>\n",
       "      <th>WoodDeckSF</th>\n",
       "      <th>OpenPorchSF</th>\n",
       "      <th>EnclosedPorch</th>\n",
       "      <th>3SsnPorch</th>\n",
       "      <th>ScreenPorch</th>\n",
       "      <th>PoolArea</th>\n",
       "      <th>MiscVal</th>\n",
       "      <th>MoSold</th>\n",
       "      <th>YrSold</th>\n",
       "      <th>SalePrice</th>\n",
       "    </tr>\n",
       "  </thead>\n",
       "  <tbody>\n",
       "    <tr>\n",
       "      <th>count</th>\n",
       "      <td>2919.000000</td>\n",
       "      <td>2919.000000</td>\n",
       "      <td>2433.000000</td>\n",
       "      <td>2919.000000</td>\n",
       "      <td>2919.000000</td>\n",
       "      <td>2919.000000</td>\n",
       "      <td>2919.000000</td>\n",
       "      <td>2919.000000</td>\n",
       "      <td>2896.000000</td>\n",
       "      <td>2918.000000</td>\n",
       "      <td>...</td>\n",
       "      <td>2919.000000</td>\n",
       "      <td>2919.000000</td>\n",
       "      <td>2919.000000</td>\n",
       "      <td>2919.000000</td>\n",
       "      <td>2919.000000</td>\n",
       "      <td>2919.000000</td>\n",
       "      <td>2919.000000</td>\n",
       "      <td>2919.000000</td>\n",
       "      <td>2919.000000</td>\n",
       "      <td>1460.000000</td>\n",
       "    </tr>\n",
       "    <tr>\n",
       "      <th>mean</th>\n",
       "      <td>1460.000000</td>\n",
       "      <td>57.137718</td>\n",
       "      <td>69.305795</td>\n",
       "      <td>10168.114080</td>\n",
       "      <td>6.089072</td>\n",
       "      <td>5.564577</td>\n",
       "      <td>1971.312778</td>\n",
       "      <td>1984.264474</td>\n",
       "      <td>102.201312</td>\n",
       "      <td>441.423235</td>\n",
       "      <td>...</td>\n",
       "      <td>93.709832</td>\n",
       "      <td>47.486811</td>\n",
       "      <td>23.098321</td>\n",
       "      <td>2.602261</td>\n",
       "      <td>16.062350</td>\n",
       "      <td>2.251799</td>\n",
       "      <td>50.825968</td>\n",
       "      <td>6.213087</td>\n",
       "      <td>2007.792737</td>\n",
       "      <td>180921.195890</td>\n",
       "    </tr>\n",
       "    <tr>\n",
       "      <th>std</th>\n",
       "      <td>842.787043</td>\n",
       "      <td>42.517628</td>\n",
       "      <td>23.344905</td>\n",
       "      <td>7886.996359</td>\n",
       "      <td>1.409947</td>\n",
       "      <td>1.113131</td>\n",
       "      <td>30.291442</td>\n",
       "      <td>20.894344</td>\n",
       "      <td>179.334253</td>\n",
       "      <td>455.610826</td>\n",
       "      <td>...</td>\n",
       "      <td>126.526589</td>\n",
       "      <td>67.575493</td>\n",
       "      <td>64.244246</td>\n",
       "      <td>25.188169</td>\n",
       "      <td>56.184365</td>\n",
       "      <td>35.663946</td>\n",
       "      <td>567.402211</td>\n",
       "      <td>2.714762</td>\n",
       "      <td>1.314964</td>\n",
       "      <td>79442.502883</td>\n",
       "    </tr>\n",
       "    <tr>\n",
       "      <th>min</th>\n",
       "      <td>1.000000</td>\n",
       "      <td>20.000000</td>\n",
       "      <td>21.000000</td>\n",
       "      <td>1300.000000</td>\n",
       "      <td>1.000000</td>\n",
       "      <td>1.000000</td>\n",
       "      <td>1872.000000</td>\n",
       "      <td>1950.000000</td>\n",
       "      <td>0.000000</td>\n",
       "      <td>0.000000</td>\n",
       "      <td>...</td>\n",
       "      <td>0.000000</td>\n",
       "      <td>0.000000</td>\n",
       "      <td>0.000000</td>\n",
       "      <td>0.000000</td>\n",
       "      <td>0.000000</td>\n",
       "      <td>0.000000</td>\n",
       "      <td>0.000000</td>\n",
       "      <td>1.000000</td>\n",
       "      <td>2006.000000</td>\n",
       "      <td>34900.000000</td>\n",
       "    </tr>\n",
       "    <tr>\n",
       "      <th>25%</th>\n",
       "      <td>730.500000</td>\n",
       "      <td>20.000000</td>\n",
       "      <td>59.000000</td>\n",
       "      <td>7478.000000</td>\n",
       "      <td>5.000000</td>\n",
       "      <td>5.000000</td>\n",
       "      <td>1953.500000</td>\n",
       "      <td>1965.000000</td>\n",
       "      <td>0.000000</td>\n",
       "      <td>0.000000</td>\n",
       "      <td>...</td>\n",
       "      <td>0.000000</td>\n",
       "      <td>0.000000</td>\n",
       "      <td>0.000000</td>\n",
       "      <td>0.000000</td>\n",
       "      <td>0.000000</td>\n",
       "      <td>0.000000</td>\n",
       "      <td>0.000000</td>\n",
       "      <td>4.000000</td>\n",
       "      <td>2007.000000</td>\n",
       "      <td>129975.000000</td>\n",
       "    </tr>\n",
       "    <tr>\n",
       "      <th>50%</th>\n",
       "      <td>1460.000000</td>\n",
       "      <td>50.000000</td>\n",
       "      <td>68.000000</td>\n",
       "      <td>9453.000000</td>\n",
       "      <td>6.000000</td>\n",
       "      <td>5.000000</td>\n",
       "      <td>1973.000000</td>\n",
       "      <td>1993.000000</td>\n",
       "      <td>0.000000</td>\n",
       "      <td>368.500000</td>\n",
       "      <td>...</td>\n",
       "      <td>0.000000</td>\n",
       "      <td>26.000000</td>\n",
       "      <td>0.000000</td>\n",
       "      <td>0.000000</td>\n",
       "      <td>0.000000</td>\n",
       "      <td>0.000000</td>\n",
       "      <td>0.000000</td>\n",
       "      <td>6.000000</td>\n",
       "      <td>2008.000000</td>\n",
       "      <td>163000.000000</td>\n",
       "    </tr>\n",
       "    <tr>\n",
       "      <th>75%</th>\n",
       "      <td>2189.500000</td>\n",
       "      <td>70.000000</td>\n",
       "      <td>80.000000</td>\n",
       "      <td>11570.000000</td>\n",
       "      <td>7.000000</td>\n",
       "      <td>6.000000</td>\n",
       "      <td>2001.000000</td>\n",
       "      <td>2004.000000</td>\n",
       "      <td>164.000000</td>\n",
       "      <td>733.000000</td>\n",
       "      <td>...</td>\n",
       "      <td>168.000000</td>\n",
       "      <td>70.000000</td>\n",
       "      <td>0.000000</td>\n",
       "      <td>0.000000</td>\n",
       "      <td>0.000000</td>\n",
       "      <td>0.000000</td>\n",
       "      <td>0.000000</td>\n",
       "      <td>8.000000</td>\n",
       "      <td>2009.000000</td>\n",
       "      <td>214000.000000</td>\n",
       "    </tr>\n",
       "    <tr>\n",
       "      <th>max</th>\n",
       "      <td>2919.000000</td>\n",
       "      <td>190.000000</td>\n",
       "      <td>313.000000</td>\n",
       "      <td>215245.000000</td>\n",
       "      <td>10.000000</td>\n",
       "      <td>9.000000</td>\n",
       "      <td>2010.000000</td>\n",
       "      <td>2010.000000</td>\n",
       "      <td>1600.000000</td>\n",
       "      <td>5644.000000</td>\n",
       "      <td>...</td>\n",
       "      <td>1424.000000</td>\n",
       "      <td>742.000000</td>\n",
       "      <td>1012.000000</td>\n",
       "      <td>508.000000</td>\n",
       "      <td>576.000000</td>\n",
       "      <td>800.000000</td>\n",
       "      <td>17000.000000</td>\n",
       "      <td>12.000000</td>\n",
       "      <td>2010.000000</td>\n",
       "      <td>755000.000000</td>\n",
       "    </tr>\n",
       "  </tbody>\n",
       "</table>\n",
       "<p>8 rows × 38 columns</p>\n",
       "</div>"
      ],
      "text/plain": [
       "                Id   MSSubClass  LotFrontage        LotArea  OverallQual  \\\n",
       "count  2919.000000  2919.000000  2433.000000    2919.000000  2919.000000   \n",
       "mean   1460.000000    57.137718    69.305795   10168.114080     6.089072   \n",
       "std     842.787043    42.517628    23.344905    7886.996359     1.409947   \n",
       "min       1.000000    20.000000    21.000000    1300.000000     1.000000   \n",
       "25%     730.500000    20.000000    59.000000    7478.000000     5.000000   \n",
       "50%    1460.000000    50.000000    68.000000    9453.000000     6.000000   \n",
       "75%    2189.500000    70.000000    80.000000   11570.000000     7.000000   \n",
       "max    2919.000000   190.000000   313.000000  215245.000000    10.000000   \n",
       "\n",
       "       OverallCond    YearBuilt  YearRemodAdd   MasVnrArea   BsmtFinSF1  ...  \\\n",
       "count  2919.000000  2919.000000   2919.000000  2896.000000  2918.000000  ...   \n",
       "mean      5.564577  1971.312778   1984.264474   102.201312   441.423235  ...   \n",
       "std       1.113131    30.291442     20.894344   179.334253   455.610826  ...   \n",
       "min       1.000000  1872.000000   1950.000000     0.000000     0.000000  ...   \n",
       "25%       5.000000  1953.500000   1965.000000     0.000000     0.000000  ...   \n",
       "50%       5.000000  1973.000000   1993.000000     0.000000   368.500000  ...   \n",
       "75%       6.000000  2001.000000   2004.000000   164.000000   733.000000  ...   \n",
       "max       9.000000  2010.000000   2010.000000  1600.000000  5644.000000  ...   \n",
       "\n",
       "        WoodDeckSF  OpenPorchSF  EnclosedPorch    3SsnPorch  ScreenPorch  \\\n",
       "count  2919.000000  2919.000000    2919.000000  2919.000000  2919.000000   \n",
       "mean     93.709832    47.486811      23.098321     2.602261    16.062350   \n",
       "std     126.526589    67.575493      64.244246    25.188169    56.184365   \n",
       "min       0.000000     0.000000       0.000000     0.000000     0.000000   \n",
       "25%       0.000000     0.000000       0.000000     0.000000     0.000000   \n",
       "50%       0.000000    26.000000       0.000000     0.000000     0.000000   \n",
       "75%     168.000000    70.000000       0.000000     0.000000     0.000000   \n",
       "max    1424.000000   742.000000    1012.000000   508.000000   576.000000   \n",
       "\n",
       "          PoolArea       MiscVal       MoSold       YrSold      SalePrice  \n",
       "count  2919.000000   2919.000000  2919.000000  2919.000000    1460.000000  \n",
       "mean      2.251799     50.825968     6.213087  2007.792737  180921.195890  \n",
       "std      35.663946    567.402211     2.714762     1.314964   79442.502883  \n",
       "min       0.000000      0.000000     1.000000  2006.000000   34900.000000  \n",
       "25%       0.000000      0.000000     4.000000  2007.000000  129975.000000  \n",
       "50%       0.000000      0.000000     6.000000  2008.000000  163000.000000  \n",
       "75%       0.000000      0.000000     8.000000  2009.000000  214000.000000  \n",
       "max     800.000000  17000.000000    12.000000  2010.000000  755000.000000  \n",
       "\n",
       "[8 rows x 38 columns]"
      ]
     },
     "execution_count": 4,
     "metadata": {},
     "output_type": "execute_result"
    }
   ],
   "source": [
    "df.describe()"
   ]
  },
  {
   "cell_type": "markdown",
   "id": "e3a7b8e8",
   "metadata": {
    "papermill": {
     "duration": 0.005975,
     "end_time": "2023-01-24T09:47:55.300234",
     "exception": false,
     "start_time": "2023-01-24T09:47:55.294259",
     "status": "completed"
    },
    "tags": []
   },
   "source": [
    "# Principal Component Analysis <a id=\"PCA\"></a>\n",
    "\n",
    "By applying PCA, we lose some information by reducing the dimensionality of the data. We may lose some information, but in a large dataset as ours, the benefits are huge:\n",
    "\n",
    "* This will **improve** the performance of machine learning algorithms.\n",
    "* This will **reduce** hardware requirements and speed up the training process.\n",
    "* This will allow us to easily **understand** the underlying structure of the data.\n",
    "\n",
    "PCA needs clean, non-NaN and scaled data. In my example, I chose to work with a subset of our dataset, the int64 columns. I scaled the subset to give all the features similar ranges."
   ]
  },
  {
   "cell_type": "code",
   "execution_count": 5,
   "id": "49bb5bd8",
   "metadata": {
    "execution": {
     "iopub.execute_input": "2023-01-24T09:47:55.314210Z",
     "iopub.status.busy": "2023-01-24T09:47:55.313763Z",
     "iopub.status.idle": "2023-01-24T09:47:55.325257Z",
     "shell.execute_reply": "2023-01-24T09:47:55.323863Z"
    },
    "papermill": {
     "duration": 0.021531,
     "end_time": "2023-01-24T09:47:55.328132",
     "exception": false,
     "start_time": "2023-01-24T09:47:55.306601",
     "status": "completed"
    },
    "tags": []
   },
   "outputs": [],
   "source": [
    "# select only int columns\n",
    "df = df.select_dtypes(include=['int64'])\n",
    "\n",
    "# instanciate a Scaler, scale and transform the data\n",
    "X = df.values\n",
    "scaler = StandardScaler()\n",
    "scaler.fit(X)\n",
    "X_scaled = scaler.transform(X)"
   ]
  },
  {
   "cell_type": "markdown",
   "id": "e4fe012b",
   "metadata": {
    "papermill": {
     "duration": 0.005425,
     "end_time": "2023-01-24T09:47:55.339302",
     "exception": false,
     "start_time": "2023-01-24T09:47:55.333877",
     "status": "completed"
    },
    "tags": []
   },
   "source": [
    "# Applying PCA to our data <a id=\"PCAa\"></a>\n",
    "\n",
    "The PCA from Scikit-Learn takes parameters to change its behaviour. The most important hyperparameter is **n_components**. There are three types of values n_components take:\n",
    "\n",
    "* **None:** The default value, if we dont specify all components are kept the same.\n",
    "* **Int:** Return that number of features that keeps the most of the information in the dataset. If we run PCA with **n_components** = 5, we get the 5 most important features that keep the most information in the dataset.\n",
    "* **Float:** Return the features that explains the float % of the information. If we run PCA with **n_components** = 0.75, we get the amount of features that keep 75% of the information.\n",
    "\n",
    "The following will find the **5**, **10**, **15**, **20** and **25** most important features in our dataset. In addition we get an idea of how much each feature contribues and a plot of the cumulative information explained by the features."
   ]
  },
  {
   "cell_type": "code",
   "execution_count": 6,
   "id": "082cd559",
   "metadata": {
    "_kg_hide-input": true,
    "execution": {
     "iopub.execute_input": "2023-01-24T09:47:55.353706Z",
     "iopub.status.busy": "2023-01-24T09:47:55.353309Z",
     "iopub.status.idle": "2023-01-24T09:47:55.360459Z",
     "shell.execute_reply": "2023-01-24T09:47:55.359109Z"
    },
    "jupyter": {
     "source_hidden": true
    },
    "papermill": {
     "duration": 0.017689,
     "end_time": "2023-01-24T09:47:55.362671",
     "exception": false,
     "start_time": "2023-01-24T09:47:55.344982",
     "status": "completed"
    },
    "tags": []
   },
   "outputs": [],
   "source": [
    "def pca_plot(pca=5):\n",
    "    \n",
    "    pca_X = PCA(n_components=pca, random_state=42)\n",
    "\n",
    "    pca_X.fit(X_scaled)\n",
    "    X_X = pca_X.transform(X_scaled)\n",
    "\n",
    "    X_cumsum = np.cumsum(pca_X.explained_variance_ratio_ * 100)\n",
    "\n",
    "    plt.plot(X_cumsum)\n",
    "    plt.title(f'Principal Component Analysis finding the {pca} most important features')\n",
    "    plt.show()\n",
    "\n",
    "    print(f'{X_cumsum} \\n \\nThe {pca} most important feature contains \\033[1m{X_cumsum[-1]:.2f} \\033[0m% of the information in the features.\\n')"
   ]
  },
  {
   "cell_type": "code",
   "execution_count": 7,
   "id": "953bb8b9",
   "metadata": {
    "_kg_hide-input": true,
    "execution": {
     "iopub.execute_input": "2023-01-24T09:47:55.376170Z",
     "iopub.status.busy": "2023-01-24T09:47:55.375118Z",
     "iopub.status.idle": "2023-01-24T09:47:56.679521Z",
     "shell.execute_reply": "2023-01-24T09:47:56.678278Z"
    },
    "papermill": {
     "duration": 1.314885,
     "end_time": "2023-01-24T09:47:56.683223",
     "exception": false,
     "start_time": "2023-01-24T09:47:55.368338",
     "status": "completed"
    },
    "tags": []
   },
   "outputs": [
    {
     "data": {
      "image/png": "[encoded data removed]",
      "text/plain": [
       "<Figure size 432x288 with 1 Axes>"
      ]
     },
     "metadata": {
      "needs_background": "light"
     },
     "output_type": "display_data"
    },
    {
     "name": "stdout",
     "output_type": "stream",
     "text": [
      "[18.99794329 28.28027869 35.57405343 41.04965163 46.1173868 ] \n",
      " \n",
      "The 5 most important feature contains \u001b[1m46.12 \u001b[0m% of the information in the features.\n",
      "\n"
     ]
    },
    {
     "data": {
      "image/png": "[encoded data removed]",
      "text/plain": [
       "<Figure size 432x288 with 1 Axes>"
      ]
     },
     "metadata": {
      "needs_background": "light"
     },
     "output_type": "display_data"
    },
    {
     "name": "stdout",
     "output_type": "stream",
     "text": [
      "[18.99794397 28.28036774 35.57419148 41.05004223 46.14673874 50.43696398\n",
      " 54.66010963 58.7077928  62.61003054 66.45598925] \n",
      " \n",
      "The 10 most important feature contains \u001b[1m66.46 \u001b[0m% of the information in the features.\n",
      "\n"
     ]
    },
    {
     "data": {
      "image/png": "[encoded data removed]",
      "text/plain": [
       "<Figure size 432x288 with 1 Axes>"
      ]
     },
     "metadata": {
      "needs_background": "light"
     },
     "output_type": "display_data"
    },
    {
     "name": "stdout",
     "output_type": "stream",
     "text": [
      "[18.99794398 28.28036777 35.57419448 41.05049705 46.14730797 50.43772271\n",
      " 54.66090897 58.70931169 62.61162376 66.45944707 70.22082615 73.93912926\n",
      " 77.43516569 80.7732967  83.71906322] \n",
      " \n",
      "The 15 most important feature contains \u001b[1m83.72 \u001b[0m% of the information in the features.\n",
      "\n"
     ]
    },
    {
     "data": {
      "image/png": "[encoded data removed]",
      "text/plain": [
       "<Figure size 432x288 with 1 Axes>"
      ]
     },
     "metadata": {
      "needs_background": "light"
     },
     "output_type": "display_data"
    },
    {
     "name": "stdout",
     "output_type": "stream",
     "text": [
      "[18.99794398 28.28036777 35.57419448 41.05049705 46.14730797 50.43772271\n",
      " 54.66090897 58.70931169 62.61162376 66.45944707 70.22082615 73.93912926\n",
      " 77.43516569 80.7732967  83.71906322 86.45513564 89.02619497 91.43260684\n",
      " 93.52572627 95.1700146 ] \n",
      " \n",
      "The 20 most important feature contains \u001b[1m95.17 \u001b[0m% of the information in the features.\n",
      "\n"
     ]
    },
    {
     "data": {
      "image/png": "[encoded data removed]",
      "text/plain": [
       "<Figure size 432x288 with 1 Axes>"
      ]
     },
     "metadata": {
      "needs_background": "light"
     },
     "output_type": "display_data"
    },
    {
     "name": "stdout",
     "output_type": "stream",
     "text": [
      "[ 18.99794398  28.28036777  35.57419448  41.05049705  46.14730797\n",
      "  50.43772271  54.66090897  58.70931169  62.61162376  66.45944707\n",
      "  70.22082615  73.93912926  77.43516569  80.7732967   83.71906322\n",
      "  86.45513564  89.02619497  91.43260684  93.52572627  95.1700146\n",
      "  96.5724156   97.72372603  98.78548658  99.44058609 100.        ] \n",
      " \n",
      "The 25 most important feature contains \u001b[1m100.00 \u001b[0m% of the information in the features.\n",
      "\n"
     ]
    }
   ],
   "source": [
    "# print the 5, 10, 15, 20 and 25 most important features\n",
    "for n in range(5, 30, 5):\n",
    "    pca_plot(pca=n)"
   ]
  },
  {
   "cell_type": "markdown",
   "id": "8ce90cf5",
   "metadata": {
    "papermill": {
     "duration": 0.007379,
     "end_time": "2023-01-24T09:47:56.698765",
     "exception": false,
     "start_time": "2023-01-24T09:47:56.691386",
     "status": "completed"
    },
    "tags": []
   },
   "source": [
    "# PCA Analysis <a id=\"PCAaa\"></a>\n",
    "\n",
    "The PCA worked like a charm! It seems we have many less important features in our dataset, which dont contain much information. Looking at the variance ratio, the most important feature contained 18.99% of information in the dataset. If we take the five most important, we get 46.12%, almost half of information in the dataset!\n",
    "\n",
    "I made a table with the n_components and the amount of information they contain:\n",
    "\n",
    "|n_components|Feature Information|\n",
    "|--|--|\n",
    "|**1**|**18.99 %**|\n",
    "|**5**|**46.12 %**|\n",
    "|**10**|**66.46 %**|\n",
    "|**15**|**83.72 %**|\n",
    "|**20**|**95.17 %**|\n",
    "|**25**|**100 %**|"
   ]
  },
  {
   "cell_type": "markdown",
   "id": "2c973444",
   "metadata": {
    "papermill": {
     "duration": 0.007408,
     "end_time": "2023-01-24T09:47:56.713949",
     "exception": false,
     "start_time": "2023-01-24T09:47:56.706541",
     "status": "completed"
    },
    "tags": []
   },
   "source": [
    "Maybe a good call would be to run PCA with n_components = 15, that way we keep **5/6's of the information** in the dataset, while making model training and testing **twice as fast!** If we can remove half the features and keep 5/6's of the information, that sounds like a pretty good deal to me!"
   ]
  },
  {
   "cell_type": "markdown",
   "id": "245c7d11",
   "metadata": {
    "papermill": {
     "duration": 0.007316,
     "end_time": "2023-01-24T09:47:56.729383",
     "exception": false,
     "start_time": "2023-01-24T09:47:56.722067",
     "status": "completed"
    },
    "tags": []
   },
   "source": [
    "# Conclusion\n",
    "\n",
    "PCA is a great tool to improve model training time and remove any less important features from a large dataset like this.\n",
    "\n",
    "I will heavily use PCA in my upcoming analysis of the [House Prices](https://www.kaggle.com/competitions/house-prices-advanced-regression-techniques) dataset.\n",
    "\n",
    "**Let me know how you plan to use PCA to improve your models! Stay tuned and take care!**"
   ]
  }
 ],
 "metadata": {
  "kernelspec": {
   "display_name": "Python 3",
   "language": "python",
   "name": "python3"
  },
  "language_info": {
   "codemirror_mode": {
    "name": "ipython",
    "version": 3
   },
   "file_extension": ".py",
   "mimetype": "text/x-python",
   "name": "python",
   "nbconvert_exporter": "python",
   "pygments_lexer": "ipython3",
   "version": "3.7.12"
  },
  "papermill": {
   "default_parameters": {},
   "duration": 12.957167,
   "end_time": "2023-01-24T09:47:57.458751",
   "environment_variables": {},
   "exception": null,
   "input_path": "__notebook__.ipynb",
   "output_path": "__notebook__.ipynb",
   "parameters": {},
   "start_time": "2023-01-24T09:47:44.501584",
   "version": "2.3.4"
  }
 },
 "nbformat": 4,
 "nbformat_minor": 5
}

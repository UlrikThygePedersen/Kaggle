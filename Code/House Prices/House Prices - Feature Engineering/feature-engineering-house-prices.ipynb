{
 "cells": [
  {
   "cell_type": "markdown",
   "id": "da92a728",
   "metadata": {
    "_cell_guid": "b1076dfc-b9ad-4769-8c92-a6c4dae69d19",
    "_uuid": "8f2839f25d086af736a60e9eeb907d3b93b6e0e5",
    "papermill": {
     "duration": 0.006639,
     "end_time": "2023-01-24T09:46:13.598310",
     "exception": false,
     "start_time": "2023-01-24T09:46:13.591671",
     "status": "completed"
    },
    "tags": []
   },
   "source": [
    "# Feature Engineering - House Prices\n",
    "\n",
    "\n",
    "![](https://camo.githubusercontent.com/9de3e2baa949b4ecc71147533765e07ecfa33a58333aed57f57db765328ade4f/68747470733a2f2f73746f726167652e676f6f676c65617069732e636f6d2f6b6167676c652d636f6d7065746974696f6e732f6b6167676c652f353430372f6d656469612f686f7573657362616e6e65722e706e67)\n"
   ]
  },
  {
   "cell_type": "markdown",
   "id": "e5eb4b0c",
   "metadata": {
    "papermill": {
     "duration": 0.005102,
     "end_time": "2023-01-24T09:46:13.609036",
     "exception": false,
     "start_time": "2023-01-24T09:46:13.603934",
     "status": "completed"
    },
    "tags": []
   },
   "source": [
    "# Table of Contents\n",
    "\n",
    "* [Introduction](#introduction)\n",
    "* [House Keeping](#house)\n",
    "* [Data Cleaning](#clean)\n",
    "* [Feature Engineering](#feature)\n",
    "* [Conclusion](#conc)"
   ]
  },
  {
   "cell_type": "markdown",
   "id": "10972ebc",
   "metadata": {
    "execution": {
     "iopub.execute_input": "2023-01-22T15:31:44.985950Z",
     "iopub.status.busy": "2023-01-22T15:31:44.985136Z",
     "iopub.status.idle": "2023-01-22T15:31:45.020669Z",
     "shell.execute_reply": "2023-01-22T15:31:45.018796Z",
     "shell.execute_reply.started": "2023-01-22T15:31:44.985831Z"
    },
    "papermill": {
     "duration": 0.005035,
     "end_time": "2023-01-24T09:46:13.619515",
     "exception": false,
     "start_time": "2023-01-24T09:46:13.614480",
     "status": "completed"
    },
    "tags": []
   },
   "source": [
    "# Introduction <a id=\"introduction\"></a>\n",
    "\n",
    "*Feature engineering is the process of transforming raw data into features that better represent the underlying problem to the predictive model. This can include techniques such as scaling, normalization, and creating interaction or polynomial features. The goal of feature engineering is to increase the predictive power of the model by creating relevant features from the raw data, and it is often a crucial step in the development of a successful machine learning model.*\n",
    "\n",
    "*Feature engineering should be used when the raw data is not suitable for a predictive model as is. It is an important step in the machine learning pipeline and it can be useful in a variety of situations, such as:*\n",
    "\n",
    "* *When the data is not in a format that can be easily used by a model, for example, text data needs to be converted to numerical values before it can be used by a model.*\n",
    "* *When the data is not complete, and additional features need to be created to represent the missing information.*\n",
    "* *When the data is not in the correct scale, and needs to be scaled or normalized to prevent certain features from dominating the model.*\n",
    "* *When there is a domain knowledge, you can use that knowledge to create new features that may be more informative than the raw data.*\n",
    "* *When you have correlated variables, you can create new features that are linear combinations of the original ones.*\n",
    "\n",
    "*It is important to note that feature engineering is an iterative process and it is crucial to evaluate the performance of the model after each feature engineering step and make adjustments as necessary.*\n",
    "\n",
    "In this notebook I will dive into the [House Prices - Advanced Regression Techniques](https://www.kaggle.com/competitions/house-prices-advanced-regression-techniques) dataset to explore and learn along the way.\n",
    "\n",
    "**Hope you enjoy, let me know how I can improve, and if you liked it, an upvote would help me out alot!**\n",
    "\n",
    "**Want to dig deeper into data exploration of this dataset? Check out my notebook on [Explorative Data Analysis](https://www.kaggle.com/code/ulrikthygepedersen/exploratory-data-analysis-house-prices)**\n",
    "\n",
    "**Want to learn more about how to further reduce features? Check out my notebook on [Principal Component Analysis](https://www.kaggle.com/code/ulrikthygepedersen/reducing-features-principal-component-analysis/notebook)**\n",
    "\n",
    "**Want to learn more about Random Forest Modelling to predict Sale Price? Check out my notebook on [Random Forest Regressor Model](https://www.kaggle.com/code/ulrikthygepedersen/random-forest-regressor-model-house-prices)**"
   ]
  },
  {
   "cell_type": "markdown",
   "id": "e7c30cd3",
   "metadata": {
    "papermill": {
     "duration": 0.005035,
     "end_time": "2023-01-24T09:46:13.629845",
     "exception": false,
     "start_time": "2023-01-24T09:46:13.624810",
     "status": "completed"
    },
    "tags": []
   },
   "source": [
    "# House Keeping <a id=\"house\"></a>\n",
    "\n",
    "## Import Libraries, load dataset and do a short summary"
   ]
  },
  {
   "cell_type": "code",
   "execution_count": 1,
   "id": "ebed364a",
   "metadata": {
    "_kg_hide-input": true,
    "execution": {
     "iopub.execute_input": "2023-01-24T09:46:13.643583Z",
     "iopub.status.busy": "2023-01-24T09:46:13.642497Z",
     "iopub.status.idle": "2023-01-24T09:46:15.172101Z",
     "shell.execute_reply": "2023-01-24T09:46:15.170877Z"
    },
    "papermill": {
     "duration": 1.539439,
     "end_time": "2023-01-24T09:46:15.174926",
     "exception": false,
     "start_time": "2023-01-24T09:46:13.635487",
     "status": "completed"
    },
    "tags": []
   },
   "outputs": [
    {
     "name": "stdout",
     "output_type": "stream",
     "text": [
      "\n",
      "Train Dataset:\n",
      "Loaded train dataset with shape (1460, 82) (1460 rows and 82 columns)\n",
      "\n",
      "Test Dataset:\n",
      "Loaded test dataset with shape (1459, 81) (1459 rows and 81 columns)\n",
      "\n",
      "Sample Submission Dataset:\n",
      "Loaded sample submission dataset with shape (1459, 2) (1459 rows and 2 columns)\n",
      "\n"
     ]
    }
   ],
   "source": [
    "import numpy as np\n",
    "import pandas as pd\n",
    "import matplotlib.pyplot as plt\n",
    "import seaborn as sns\n",
    "sns.set_theme(style=\"white\", rc={\"axes.facecolor\": (0, 0, 0, 0)})\n",
    "\n",
    "from sklearn.preprocessing import OrdinalEncoder\n",
    "from sklearn.preprocessing import StandardScaler\n",
    "from sklearn.decomposition import PCA\n",
    "\n",
    "# load datasets\n",
    "df_train = pd.read_csv('/kaggle/input/house-prices-advanced-regression-techniques/train.csv')\n",
    "df_test = pd.read_csv('/kaggle/input/house-prices-advanced-regression-techniques/test.csv')\n",
    "df_sample_submission = pd.read_csv('/kaggle/input/house-prices-advanced-regression-techniques/sample_submission.csv')\n",
    "\n",
    "# mark train and test sets for future split\n",
    "df_train['train_test'] = 'Train'\n",
    "df_test['train_test'] = 'Test'\n",
    "\n",
    "#combine to a single dataframe with all data for feature engineering\n",
    "df_all = pd.concat([df_train, df_test])\n",
    "\n",
    "# print dataset shape and columns\n",
    "trow, tcol = df_train.shape\n",
    "erow, ecol = df_test.shape\n",
    "srow, scol = df_sample_submission.shape\n",
    "\n",
    "print(f'''\n",
    "Train Dataset:\n",
    "Loaded train dataset with shape {df_train.shape} ({trow} rows and {tcol} columns)\n",
    "\n",
    "Test Dataset:\n",
    "Loaded test dataset with shape {df_test.shape} ({erow} rows and {ecol} columns)\n",
    "\n",
    "Sample Submission Dataset:\n",
    "Loaded sample submission dataset with shape {df_sample_submission.shape} ({srow} rows and {scol} columns)\n",
    "''')"
   ]
  },
  {
   "cell_type": "markdown",
   "id": "40994de3",
   "metadata": {
    "papermill": {
     "duration": 0.005369,
     "end_time": "2023-01-24T09:46:15.186076",
     "exception": false,
     "start_time": "2023-01-24T09:46:15.180707",
     "status": "completed"
    },
    "tags": []
   },
   "source": [
    "# Data Cleaning <a id=\"clean\"></a>\n",
    "\n",
    "Based on my [previous notebook on Exploratory Data Analysis](https://www.kaggle.com/code/ulrikthygepedersen/exploratory-data-analysis-house-prices), I will drop features with little information to increase model training time and accuracy:"
   ]
  },
  {
   "cell_type": "code",
   "execution_count": 2,
   "id": "23c95c61",
   "metadata": {
    "execution": {
     "iopub.execute_input": "2023-01-24T09:46:15.199051Z",
     "iopub.status.busy": "2023-01-24T09:46:15.198623Z",
     "iopub.status.idle": "2023-01-24T09:46:15.220216Z",
     "shell.execute_reply": "2023-01-24T09:46:15.219211Z"
    },
    "papermill": {
     "duration": 0.031135,
     "end_time": "2023-01-24T09:46:15.222798",
     "exception": false,
     "start_time": "2023-01-24T09:46:15.191663",
     "status": "completed"
    },
    "tags": []
   },
   "outputs": [],
   "source": [
    "# drop the Id and PoolQC columns\n",
    "df_all = df_all.drop(['Id', \n",
    "                      'PoolQC', \n",
    "                      'PoolArea'], \n",
    "                      axis=1)\n",
    "\n",
    "# drop features with little information based on visualizations\n",
    "df_all = (df_all.drop(['BsmtFinSF2',\n",
    "                       'LowQualFinSF',\n",
    "                       'BsmtHalfBath',\n",
    "                       'KitchenAbvGr',\n",
    "                       'EnclosedPorch',\n",
    "                       '3SsnPorch',\n",
    "                       'MiscVal',\n",
    "                       'Street', \n",
    "                       'Utilities', \n",
    "                       'Condition2', \n",
    "                       'RoofMatl', \n",
    "                       'Heating',\n",
    "                       'MiscFeature'], \n",
    "                       axis=1))\n",
    "\n",
    "# drop features with little information based on heatmap\n",
    "df_all = (df_all.drop(['MSSubClass',\n",
    "                       'OverallCond',\n",
    "                       'ScreenPorch',\n",
    "                       'MoSold',\n",
    "                       'YrSold'], \n",
    "                       axis=1))"
   ]
  },
  {
   "cell_type": "markdown",
   "id": "fdde35e4",
   "metadata": {
    "papermill": {
     "duration": 0.005405,
     "end_time": "2023-01-24T09:46:15.233886",
     "exception": false,
     "start_time": "2023-01-24T09:46:15.228481",
     "status": "completed"
    },
    "tags": []
   },
   "source": [
    "## Missing Values\n",
    "\n",
    "Missing values can be bad for machine learning for several reasons:\n",
    "\n",
    "* Missing values can cause issues with model training and evaluation. Many machine learning algorithms cannot handle missing data and will either throw an error or produce inaccurate results.\n",
    "* Missing values can lead to a decrease in the sample size. When a large number of observations have missing values, it can lead to a smaller sample size which can decrease the statistical power of the model.\n",
    "* Missing values can introduce bias. If the missing values are not missing at random, then the model may be trained on a biased sample, which can lead to inaccurate predictions on new data.\n",
    "* Missing values can affect the correlations and relationships between variables. If a variable with missing values is correlated with other variables, then the absence of that variable can affect the relationships between the other variables and the target variable.\n",
    "* Missing values can make it difficult to interpret the model. If there are missing values in the input data, it is hard to understand the effect of individual variables on the outcome, and it can be hard to make sense of the model's predictions.\n",
    "\n",
    "For these reasons, it is important to handle missing values appropriately before using the data for machine learning. There are several techniques to deal with missing values such as:\n",
    "\n",
    "* Removing observations with missing values\n",
    "* Imputing missing values\n",
    "* Using algorithms that can handle missing data\n",
    "* Using techniques to infer missing values based on the other variables\n",
    "\n",
    "**It's important to note that the best way to handle missing values depends on the specific problem and dataset you are working with.**"
   ]
  },
  {
   "cell_type": "code",
   "execution_count": 3,
   "id": "299294ca",
   "metadata": {
    "_kg_hide-input": true,
    "execution": {
     "iopub.execute_input": "2023-01-24T09:46:15.247234Z",
     "iopub.status.busy": "2023-01-24T09:46:15.246517Z",
     "iopub.status.idle": "2023-01-24T09:46:15.310869Z",
     "shell.execute_reply": "2023-01-24T09:46:15.309700Z"
    },
    "papermill": {
     "duration": 0.073834,
     "end_time": "2023-01-24T09:46:15.313218",
     "exception": false,
     "start_time": "2023-01-24T09:46:15.239384",
     "status": "completed"
    },
    "tags": []
   },
   "outputs": [
    {
     "data": {
      "text/html": [
       "<div>\n",
       "<style scoped>\n",
       "    .dataframe tbody tr th:only-of-type {\n",
       "        vertical-align: middle;\n",
       "    }\n",
       "\n",
       "    .dataframe tbody tr th {\n",
       "        vertical-align: top;\n",
       "    }\n",
       "\n",
       "    .dataframe thead th {\n",
       "        text-align: right;\n",
       "    }\n",
       "</style>\n",
       "<table border=\"1\" class=\"dataframe\">\n",
       "  <thead>\n",
       "    <tr style=\"text-align: right;\">\n",
       "      <th></th>\n",
       "      <th>Number of Missing Values</th>\n",
       "      <th>Number of Unique Values</th>\n",
       "      <th>Unique Values</th>\n",
       "      <th>Column type</th>\n",
       "    </tr>\n",
       "  </thead>\n",
       "  <tbody>\n",
       "    <tr>\n",
       "      <th>MSZoning</th>\n",
       "      <td>4</td>\n",
       "      <td>5</td>\n",
       "      <td>[RL, RM, C (all), FV, RH, nan]</td>\n",
       "      <td>object</td>\n",
       "    </tr>\n",
       "    <tr>\n",
       "      <th>LotFrontage</th>\n",
       "      <td>486</td>\n",
       "      <td>128</td>\n",
       "      <td>[65.0, 80.0, 68.0, 60.0, 84.0, 85.0, 75.0, nan...</td>\n",
       "      <td>float64</td>\n",
       "    </tr>\n",
       "    <tr>\n",
       "      <th>LotArea</th>\n",
       "      <td>0</td>\n",
       "      <td>1951</td>\n",
       "      <td>[8450, 9600, 11250, 9550, 14260, 14115, 10084,...</td>\n",
       "      <td>int64</td>\n",
       "    </tr>\n",
       "    <tr>\n",
       "      <th>Alley</th>\n",
       "      <td>2721</td>\n",
       "      <td>2</td>\n",
       "      <td>[nan, Grvl, Pave]</td>\n",
       "      <td>object</td>\n",
       "    </tr>\n",
       "    <tr>\n",
       "      <th>LotShape</th>\n",
       "      <td>0</td>\n",
       "      <td>4</td>\n",
       "      <td>[Reg, IR1, IR2, IR3]</td>\n",
       "      <td>object</td>\n",
       "    </tr>\n",
       "    <tr>\n",
       "      <th>...</th>\n",
       "      <td>...</td>\n",
       "      <td>...</td>\n",
       "      <td>...</td>\n",
       "      <td>...</td>\n",
       "    </tr>\n",
       "    <tr>\n",
       "      <th>Fence</th>\n",
       "      <td>2348</td>\n",
       "      <td>4</td>\n",
       "      <td>[nan, MnPrv, GdWo, GdPrv, MnWw]</td>\n",
       "      <td>object</td>\n",
       "    </tr>\n",
       "    <tr>\n",
       "      <th>SaleType</th>\n",
       "      <td>1</td>\n",
       "      <td>9</td>\n",
       "      <td>[WD, New, COD, ConLD, ConLI, CWD, ConLw, Con, ...</td>\n",
       "      <td>object</td>\n",
       "    </tr>\n",
       "    <tr>\n",
       "      <th>SaleCondition</th>\n",
       "      <td>0</td>\n",
       "      <td>6</td>\n",
       "      <td>[Normal, Abnorml, Partial, AdjLand, Alloca, Fa...</td>\n",
       "      <td>object</td>\n",
       "    </tr>\n",
       "    <tr>\n",
       "      <th>SalePrice</th>\n",
       "      <td>1459</td>\n",
       "      <td>663</td>\n",
       "      <td>[208500.0, 181500.0, 223500.0, 140000.0, 25000...</td>\n",
       "      <td>float64</td>\n",
       "    </tr>\n",
       "    <tr>\n",
       "      <th>train_test</th>\n",
       "      <td>0</td>\n",
       "      <td>2</td>\n",
       "      <td>[Train, Test]</td>\n",
       "      <td>object</td>\n",
       "    </tr>\n",
       "  </tbody>\n",
       "</table>\n",
       "<p>61 rows × 4 columns</p>\n",
       "</div>"
      ],
      "text/plain": [
       "               Number of Missing Values  Number of Unique Values  \\\n",
       "MSZoning                              4                        5   \n",
       "LotFrontage                         486                      128   \n",
       "LotArea                               0                     1951   \n",
       "Alley                              2721                        2   \n",
       "LotShape                              0                        4   \n",
       "...                                 ...                      ...   \n",
       "Fence                              2348                        4   \n",
       "SaleType                              1                        9   \n",
       "SaleCondition                         0                        6   \n",
       "SalePrice                          1459                      663   \n",
       "train_test                            0                        2   \n",
       "\n",
       "                                                   Unique Values Column type  \n",
       "MSZoning                          [RL, RM, C (all), FV, RH, nan]      object  \n",
       "LotFrontage    [65.0, 80.0, 68.0, 60.0, 84.0, 85.0, 75.0, nan...     float64  \n",
       "LotArea        [8450, 9600, 11250, 9550, 14260, 14115, 10084,...       int64  \n",
       "Alley                                          [nan, Grvl, Pave]      object  \n",
       "LotShape                                    [Reg, IR1, IR2, IR3]      object  \n",
       "...                                                          ...         ...  \n",
       "Fence                            [nan, MnPrv, GdWo, GdPrv, MnWw]      object  \n",
       "SaleType       [WD, New, COD, ConLD, ConLI, CWD, ConLw, Con, ...      object  \n",
       "SaleCondition  [Normal, Abnorml, Partial, AdjLand, Alloca, Fa...      object  \n",
       "SalePrice      [208500.0, 181500.0, 223500.0, 140000.0, 25000...     float64  \n",
       "train_test                                         [Train, Test]      object  \n",
       "\n",
       "[61 rows x 4 columns]"
      ]
     },
     "execution_count": 3,
     "metadata": {},
     "output_type": "execute_result"
    }
   ],
   "source": [
    "df_info = pd.DataFrame(data={\n",
    "    'Number of Missing Values': df_all.isna().sum(),\n",
    "    'Number of Unique Values': df_all.nunique(),\n",
    "    'Unique Values': [df_all[col].unique().tolist() for col in df_all.columns],\n",
    "    'Column type': df_all.dtypes\n",
    "})\n",
    "\n",
    "df_info"
   ]
  },
  {
   "cell_type": "markdown",
   "id": "d3da3d22",
   "metadata": {
    "papermill": {
     "duration": 0.00574,
     "end_time": "2023-01-24T09:46:15.326633",
     "exception": false,
     "start_time": "2023-01-24T09:46:15.320893",
     "status": "completed"
    },
    "tags": []
   },
   "source": [
    "The following columns has null values and our job is now to reduce this to zero: \n",
    "\n",
    "'MSZoning', 'LotFrontage', 'Alley', 'Exterior1st', 'Exterior2nd', 'MasVnrType', 'MasVnrArea', 'BsmtQual', 'BsmtCond', 'BsmtExposure', 'BsmtFinType1', 'BsmtFinSF1', 'BsmtFinType2', 'BsmtUnfSF', 'TotalBsmtSF', 'Electrical', 'BsmtFullBath', 'KitchenQual', 'Functional', 'FireplaceQu', 'GarageType', 'GarageYrBlt', 'GarageFinish', 'GarageCars', 'GarageArea', 'GarageQual', 'GarageCond', 'Fence', 'SaleType', 'SalePrice'\n",
    "\n",
    "First lets start with the **numerical** features and replace any missing values with the mean:"
   ]
  },
  {
   "cell_type": "code",
   "execution_count": 4,
   "id": "bb2aa550",
   "metadata": {
    "execution": {
     "iopub.execute_input": "2023-01-24T09:46:15.341443Z",
     "iopub.status.busy": "2023-01-24T09:46:15.340211Z",
     "iopub.status.idle": "2023-01-24T09:46:15.354307Z",
     "shell.execute_reply": "2023-01-24T09:46:15.353363Z"
    },
    "papermill": {
     "duration": 0.023992,
     "end_time": "2023-01-24T09:46:15.356807",
     "exception": false,
     "start_time": "2023-01-24T09:46:15.332815",
     "status": "completed"
    },
    "tags": []
   },
   "outputs": [],
   "source": [
    "# replace numerical features with the mean of the column\n",
    "for col in df_all.columns:\n",
    "    if((df_all[col].dtype == 'float64') or (df_all[col].dtype == 'int64')):\n",
    "        df_all[col].fillna(df_all[col].mean(), inplace=True)"
   ]
  },
  {
   "cell_type": "markdown",
   "id": "48ac5a4d",
   "metadata": {
    "execution": {
     "iopub.execute_input": "2023-01-22T16:36:04.580951Z",
     "iopub.status.busy": "2023-01-22T16:36:04.580159Z",
     "iopub.status.idle": "2023-01-22T16:36:04.607974Z",
     "shell.execute_reply": "2023-01-22T16:36:04.606985Z",
     "shell.execute_reply.started": "2023-01-22T16:36:04.580909Z"
    },
    "papermill": {
     "duration": 0.005657,
     "end_time": "2023-01-24T09:46:15.368473",
     "exception": false,
     "start_time": "2023-01-24T09:46:15.362816",
     "status": "completed"
    },
    "tags": []
   },
   "source": [
    "**Nice!** This reduced our features with missing values alot to the following list: \n",
    "\n",
    "'MSZoning', 'Alley', 'Exterior1st', 'Exterior2nd', 'MasVnrType', 'BsmtQual', 'BsmtCond', 'BsmtExposure', 'BsmtFinType1', 'BsmtFinType2', 'Electrical', 'KitchenQual', 'Functional', 'FireplaceQu', 'GarageType', 'GarageFinish', 'GarageQual', 'GarageCond', 'Fence', 'SaleType'\n",
    "\n",
    "Next to the categorical features. We are going to replace the categorical features with the most common value using the .mode()[0] attribute of pandas:"
   ]
  },
  {
   "cell_type": "code",
   "execution_count": 5,
   "id": "bcce5136",
   "metadata": {
    "execution": {
     "iopub.execute_input": "2023-01-24T09:46:15.382516Z",
     "iopub.status.busy": "2023-01-24T09:46:15.381793Z",
     "iopub.status.idle": "2023-01-24T09:46:15.416966Z",
     "shell.execute_reply": "2023-01-24T09:46:15.415832Z"
    },
    "papermill": {
     "duration": 0.045453,
     "end_time": "2023-01-24T09:46:15.419801",
     "exception": false,
     "start_time": "2023-01-24T09:46:15.374348",
     "status": "completed"
    },
    "tags": []
   },
   "outputs": [],
   "source": [
    "# replace categorical features with the most common value of the column\n",
    "for col in df_all.columns:\n",
    "    if df_all[col].dtype == 'object':\n",
    "        df_all[col].fillna(df_all[col].mode()[0], inplace=True)"
   ]
  },
  {
   "cell_type": "markdown",
   "id": "af4693a2",
   "metadata": {
    "papermill": {
     "duration": 0.005464,
     "end_time": "2023-01-24T09:46:15.431283",
     "exception": false,
     "start_time": "2023-01-24T09:46:15.425819",
     "status": "completed"
    },
    "tags": []
   },
   "source": [
    "...and the list we have left is:\n",
    "\n",
    "[]\n",
    "\n",
    "Nothing! Our data is now free on missing values and ready for modelling!"
   ]
  },
  {
   "cell_type": "markdown",
   "id": "5ce1a62b",
   "metadata": {
    "papermill": {
     "duration": 0.005395,
     "end_time": "2023-01-24T09:46:15.442860",
     "exception": false,
     "start_time": "2023-01-24T09:46:15.437465",
     "status": "completed"
    },
    "tags": []
   },
   "source": [
    "# Feature Engineering <a id=\"feature\"></a>\n",
    "\n",
    "Feature engineering is the step in the machine learning pipeline that involves preparing the data for use in a model. This includes a variety of tasks such as transforming and formatting the data to make it suitable for use with a specific algorithm or model.\n",
    "\n",
    "Some common data pre-processing tasks include:\n",
    "\n",
    "* **Data transformation**: Changing the data into a format that can be used by the model. This includes feature scaling, one-hot encoding, and any other necessary transformations.\n",
    "* **Data normalization**: Scaling the data to a specific range or to have a mean of 0 and standard deviation of 1.\n",
    "* **Data reduction**: Reducing the size of the dataset by removing features or instances that are not relevant or useful for the model.\n",
    "\n",
    "By performing these pre-processing steps, the data is made more suitable for use with machine learning models, which can improve the performance and accuracy of the model.\n",
    "\n",
    "Before starting any feature engineering our dataframe looks like this:"
   ]
  },
  {
   "cell_type": "code",
   "execution_count": 6,
   "id": "b2b266d8",
   "metadata": {
    "_kg_hide-input": true,
    "execution": {
     "iopub.execute_input": "2023-01-24T09:46:15.455845Z",
     "iopub.status.busy": "2023-01-24T09:46:15.455417Z",
     "iopub.status.idle": "2023-01-24T09:46:15.483866Z",
     "shell.execute_reply": "2023-01-24T09:46:15.482691Z"
    },
    "papermill": {
     "duration": 0.037705,
     "end_time": "2023-01-24T09:46:15.486206",
     "exception": false,
     "start_time": "2023-01-24T09:46:15.448501",
     "status": "completed"
    },
    "tags": []
   },
   "outputs": [
    {
     "data": {
      "text/html": [
       "<div>\n",
       "<style scoped>\n",
       "    .dataframe tbody tr th:only-of-type {\n",
       "        vertical-align: middle;\n",
       "    }\n",
       "\n",
       "    .dataframe tbody tr th {\n",
       "        vertical-align: top;\n",
       "    }\n",
       "\n",
       "    .dataframe thead th {\n",
       "        text-align: right;\n",
       "    }\n",
       "</style>\n",
       "<table border=\"1\" class=\"dataframe\">\n",
       "  <thead>\n",
       "    <tr style=\"text-align: right;\">\n",
       "      <th></th>\n",
       "      <th>MSZoning</th>\n",
       "      <th>LotFrontage</th>\n",
       "      <th>LotArea</th>\n",
       "      <th>Alley</th>\n",
       "      <th>LotShape</th>\n",
       "      <th>LandContour</th>\n",
       "      <th>LotConfig</th>\n",
       "      <th>LandSlope</th>\n",
       "      <th>Neighborhood</th>\n",
       "      <th>Condition1</th>\n",
       "      <th>...</th>\n",
       "      <th>GarageQual</th>\n",
       "      <th>GarageCond</th>\n",
       "      <th>PavedDrive</th>\n",
       "      <th>WoodDeckSF</th>\n",
       "      <th>OpenPorchSF</th>\n",
       "      <th>Fence</th>\n",
       "      <th>SaleType</th>\n",
       "      <th>SaleCondition</th>\n",
       "      <th>SalePrice</th>\n",
       "      <th>train_test</th>\n",
       "    </tr>\n",
       "  </thead>\n",
       "  <tbody>\n",
       "    <tr>\n",
       "      <th>0</th>\n",
       "      <td>RL</td>\n",
       "      <td>65.0</td>\n",
       "      <td>8450</td>\n",
       "      <td>Grvl</td>\n",
       "      <td>Reg</td>\n",
       "      <td>Lvl</td>\n",
       "      <td>Inside</td>\n",
       "      <td>Gtl</td>\n",
       "      <td>CollgCr</td>\n",
       "      <td>Norm</td>\n",
       "      <td>...</td>\n",
       "      <td>TA</td>\n",
       "      <td>TA</td>\n",
       "      <td>Y</td>\n",
       "      <td>0</td>\n",
       "      <td>61</td>\n",
       "      <td>MnPrv</td>\n",
       "      <td>WD</td>\n",
       "      <td>Normal</td>\n",
       "      <td>208500.0</td>\n",
       "      <td>Train</td>\n",
       "    </tr>\n",
       "    <tr>\n",
       "      <th>1</th>\n",
       "      <td>RL</td>\n",
       "      <td>80.0</td>\n",
       "      <td>9600</td>\n",
       "      <td>Grvl</td>\n",
       "      <td>Reg</td>\n",
       "      <td>Lvl</td>\n",
       "      <td>FR2</td>\n",
       "      <td>Gtl</td>\n",
       "      <td>Veenker</td>\n",
       "      <td>Feedr</td>\n",
       "      <td>...</td>\n",
       "      <td>TA</td>\n",
       "      <td>TA</td>\n",
       "      <td>Y</td>\n",
       "      <td>298</td>\n",
       "      <td>0</td>\n",
       "      <td>MnPrv</td>\n",
       "      <td>WD</td>\n",
       "      <td>Normal</td>\n",
       "      <td>181500.0</td>\n",
       "      <td>Train</td>\n",
       "    </tr>\n",
       "    <tr>\n",
       "      <th>2</th>\n",
       "      <td>RL</td>\n",
       "      <td>68.0</td>\n",
       "      <td>11250</td>\n",
       "      <td>Grvl</td>\n",
       "      <td>IR1</td>\n",
       "      <td>Lvl</td>\n",
       "      <td>Inside</td>\n",
       "      <td>Gtl</td>\n",
       "      <td>CollgCr</td>\n",
       "      <td>Norm</td>\n",
       "      <td>...</td>\n",
       "      <td>TA</td>\n",
       "      <td>TA</td>\n",
       "      <td>Y</td>\n",
       "      <td>0</td>\n",
       "      <td>42</td>\n",
       "      <td>MnPrv</td>\n",
       "      <td>WD</td>\n",
       "      <td>Normal</td>\n",
       "      <td>223500.0</td>\n",
       "      <td>Train</td>\n",
       "    </tr>\n",
       "    <tr>\n",
       "      <th>3</th>\n",
       "      <td>RL</td>\n",
       "      <td>60.0</td>\n",
       "      <td>9550</td>\n",
       "      <td>Grvl</td>\n",
       "      <td>IR1</td>\n",
       "      <td>Lvl</td>\n",
       "      <td>Corner</td>\n",
       "      <td>Gtl</td>\n",
       "      <td>Crawfor</td>\n",
       "      <td>Norm</td>\n",
       "      <td>...</td>\n",
       "      <td>TA</td>\n",
       "      <td>TA</td>\n",
       "      <td>Y</td>\n",
       "      <td>0</td>\n",
       "      <td>35</td>\n",
       "      <td>MnPrv</td>\n",
       "      <td>WD</td>\n",
       "      <td>Abnorml</td>\n",
       "      <td>140000.0</td>\n",
       "      <td>Train</td>\n",
       "    </tr>\n",
       "    <tr>\n",
       "      <th>4</th>\n",
       "      <td>RL</td>\n",
       "      <td>84.0</td>\n",
       "      <td>14260</td>\n",
       "      <td>Grvl</td>\n",
       "      <td>IR1</td>\n",
       "      <td>Lvl</td>\n",
       "      <td>FR2</td>\n",
       "      <td>Gtl</td>\n",
       "      <td>NoRidge</td>\n",
       "      <td>Norm</td>\n",
       "      <td>...</td>\n",
       "      <td>TA</td>\n",
       "      <td>TA</td>\n",
       "      <td>Y</td>\n",
       "      <td>192</td>\n",
       "      <td>84</td>\n",
       "      <td>MnPrv</td>\n",
       "      <td>WD</td>\n",
       "      <td>Normal</td>\n",
       "      <td>250000.0</td>\n",
       "      <td>Train</td>\n",
       "    </tr>\n",
       "  </tbody>\n",
       "</table>\n",
       "<p>5 rows × 61 columns</p>\n",
       "</div>"
      ],
      "text/plain": [
       "  MSZoning  LotFrontage  LotArea Alley LotShape LandContour LotConfig  \\\n",
       "0       RL         65.0     8450  Grvl      Reg         Lvl    Inside   \n",
       "1       RL         80.0     9600  Grvl      Reg         Lvl       FR2   \n",
       "2       RL         68.0    11250  Grvl      IR1         Lvl    Inside   \n",
       "3       RL         60.0     9550  Grvl      IR1         Lvl    Corner   \n",
       "4       RL         84.0    14260  Grvl      IR1         Lvl       FR2   \n",
       "\n",
       "  LandSlope Neighborhood Condition1  ... GarageQual GarageCond  PavedDrive  \\\n",
       "0       Gtl      CollgCr       Norm  ...         TA         TA           Y   \n",
       "1       Gtl      Veenker      Feedr  ...         TA         TA           Y   \n",
       "2       Gtl      CollgCr       Norm  ...         TA         TA           Y   \n",
       "3       Gtl      Crawfor       Norm  ...         TA         TA           Y   \n",
       "4       Gtl      NoRidge       Norm  ...         TA         TA           Y   \n",
       "\n",
       "   WoodDeckSF  OpenPorchSF  Fence SaleType SaleCondition SalePrice  train_test  \n",
       "0           0           61  MnPrv       WD        Normal  208500.0       Train  \n",
       "1         298            0  MnPrv       WD        Normal  181500.0       Train  \n",
       "2           0           42  MnPrv       WD        Normal  223500.0       Train  \n",
       "3           0           35  MnPrv       WD       Abnorml  140000.0       Train  \n",
       "4         192           84  MnPrv       WD        Normal  250000.0       Train  \n",
       "\n",
       "[5 rows x 61 columns]"
      ]
     },
     "execution_count": 6,
     "metadata": {},
     "output_type": "execute_result"
    }
   ],
   "source": [
    "df_all.head()"
   ]
  },
  {
   "cell_type": "markdown",
   "id": "17a3f8ff",
   "metadata": {
    "papermill": {
     "duration": 0.005706,
     "end_time": "2023-01-24T09:46:15.498050",
     "exception": false,
     "start_time": "2023-01-24T09:46:15.492344",
     "status": "completed"
    },
    "tags": []
   },
   "source": [
    "## Ordinal Encoding\n",
    "\n",
    "**Ordinal encoding** is a method used to convert categorical variables (variables that take on a limited number of values) into numerical variables that can be used in machine learning models. It is a type of encoding where the categorical values are assigned a unique integer value, such as 1, 2, 3, etc.\n",
    "\n",
    "The key point of ordinal encoding is that the assigned integers have an explicit order, meaning that the categories have a natural rank or order, for example, \"small\", \"medium\", \"large\" or \"low\", \"medium\", \"high\".\n",
    "\n",
    "This is different from one-hot encoding, in which each category is represented by a binary variable, and there is no inherent order among the categories.\n",
    "\n",
    "Ordinal encoding can be useful when the categorical variable has a natural ordinal relationship between the categories, as it allows the model to capture the ordinal relationship. However, care should be taken to ensure that the ordinal relationship is not misinterpreted as a numeric relationship."
   ]
  },
  {
   "cell_type": "code",
   "execution_count": 7,
   "id": "93247d21",
   "metadata": {
    "execution": {
     "iopub.execute_input": "2023-01-24T09:46:15.512282Z",
     "iopub.status.busy": "2023-01-24T09:46:15.511318Z",
     "iopub.status.idle": "2023-01-24T09:46:15.574696Z",
     "shell.execute_reply": "2023-01-24T09:46:15.573572Z"
    },
    "papermill": {
     "duration": 0.073469,
     "end_time": "2023-01-24T09:46:15.577421",
     "exception": false,
     "start_time": "2023-01-24T09:46:15.503952",
     "status": "completed"
    },
    "tags": []
   },
   "outputs": [],
   "source": [
    "# encode ordinal features\n",
    "for col in ['BsmtQual', 'BsmtCond']:\n",
    "    OE = OrdinalEncoder(categories=[['No', 'Po', 'Fa', 'TA', 'Gd', 'Ex']])\n",
    "    df_all[col] = OE.fit_transform(df_all[[col]])\n",
    "\n",
    "    \n",
    "for col in ['ExterQual', 'ExterCond', 'KitchenQual']:\n",
    "    OE = OrdinalEncoder(categories=[['Po', 'Fa', 'TA', 'Gd', 'Ex']])\n",
    "    df_all[col] = OE.fit_transform(df_all[[col]])\n",
    "    \n",
    "\n",
    "OE = OrdinalEncoder(categories=[['N', 'P', 'Y']])\n",
    "df_all['PavedDrive'] = OE.fit_transform(df_all[['PavedDrive']])\n",
    "\n",
    "\n",
    "OE = OrdinalEncoder(categories=[['Mix', 'FuseP', 'FuseF', 'FuseA', 'SBrkr']])\n",
    "df_all['Electrical'] = OE.fit_transform(df_all[['Electrical']])\n",
    "\n",
    "\n",
    "for col in ['BsmtFinType1', 'BsmtFinType2']:\n",
    "    OE = OrdinalEncoder(categories=[['No', 'Unf', 'LwQ', 'Rec', 'BLQ', 'ALQ', 'GLQ']])\n",
    "    df_all[col] = OE.fit_transform(df_all[[col]])\n",
    "\n",
    "\n",
    "OE = OrdinalEncoder(categories=[['C (all)', 'RH', 'RM', 'RL', 'FV']])\n",
    "df_all['MSZoning'] = OE.fit_transform(df_all[['MSZoning']])\n",
    "\n",
    "\n",
    "OE = OrdinalEncoder(categories=[['Slab', 'BrkTil', 'Stone', 'CBlock', 'Wood', 'PConc']])\n",
    "df_all['Foundation'] = OE.fit_transform(df_all[['Foundation']])\n",
    "\n",
    "\n",
    "OE = OrdinalEncoder(categories=[['MeadowV', 'IDOTRR', 'BrDale', 'Edwards', 'BrkSide', 'OldTown', 'NAmes', 'Sawyer', 'Mitchel', 'NPkVill', 'SWISU', 'Blueste', 'SawyerW', 'NWAmes', 'Gilbert', 'Blmngtn', 'ClearCr', 'Crawfor', 'CollgCr', 'Veenker', 'Timber', 'Somerst', 'NoRidge', 'StoneBr', 'NridgHt']])\n",
    "df_all['Neighborhood'] = OE.fit_transform(df_all[['Neighborhood']])\n",
    "\n",
    "\n",
    "OE = OrdinalEncoder(categories=[['None', 'BrkCmn', 'BrkFace', 'Stone']])\n",
    "df_all['MasVnrType'] = OE.fit_transform(df_all[['MasVnrType']])\n",
    "\n",
    "\n",
    "OE = OrdinalEncoder(categories=[['AdjLand', 'Abnorml','Alloca', 'Family', 'Normal', 'Partial']])\n",
    "df_all['SaleCondition'] = OE.fit_transform(df_all[['SaleCondition']])\n",
    "\n",
    "\n",
    "OE = OrdinalEncoder(categories=[['Gambrel', 'Gable','Hip', 'Mansard', 'Flat', 'Shed']])\n",
    "df_all['RoofStyle'] = OE.fit_transform(df_all[['RoofStyle']])"
   ]
  },
  {
   "cell_type": "markdown",
   "id": "8afd6a1f",
   "metadata": {
    "papermill": {
     "duration": 0.005866,
     "end_time": "2023-01-24T09:46:15.589589",
     "exception": false,
     "start_time": "2023-01-24T09:46:15.583723",
     "status": "completed"
    },
    "tags": []
   },
   "source": [
    "## Feature Scaling\n",
    "\n",
    "**Feature scaling** is a technique used to standardize the range of independent variables or features of data. In machine learning, it is a step of data pre-processing that is applied to improve the accuracy and convergence rate of models. Some models (such as SVM, KNN, and Neural Network) are based on the distance between two data points and feature scaling is must for these models to work correctly.\n",
    "\n",
    "There are two common ways to perform feature scaling:\n",
    "\n",
    "* **Min-Max scaling** (also called normalization): It scales the values of the feature to a given range (usually [0,1]). The formula to scale the feature value x is (x - min(x))/(max(x)-min(x))\n",
    "* **Standardization**: It scales the values of the feature to have zero mean and unit variance. The formula to standardize the feature value x is (x - mean(x))/ standard deviation(x)\n",
    "\n",
    "It is important to note that feature scaling should be applied only to the independent variables, not the dependent variable. Additionally, it is also important to note that feature scaling should be done after splitting the data into training and test sets, and should be applied to the test set using the parameters of the scaling learned on the training set."
   ]
  },
  {
   "cell_type": "code",
   "execution_count": 8,
   "id": "03604e33",
   "metadata": {
    "execution": {
     "iopub.execute_input": "2023-01-24T09:46:15.603999Z",
     "iopub.status.busy": "2023-01-24T09:46:15.602859Z",
     "iopub.status.idle": "2023-01-24T09:46:15.625003Z",
     "shell.execute_reply": "2023-01-24T09:46:15.623825Z"
    },
    "papermill": {
     "duration": 0.032145,
     "end_time": "2023-01-24T09:46:15.627755",
     "exception": false,
     "start_time": "2023-01-24T09:46:15.595610",
     "status": "completed"
    },
    "tags": []
   },
   "outputs": [],
   "source": [
    "# scale all numerical features\n",
    "numerical_features = df_all.select_dtypes(exclude=\"object\").columns\n",
    "\n",
    "scaler = StandardScaler()\n",
    "\n",
    "df_all[numerical_features] = scaler.fit_transform(df_all[numerical_features])"
   ]
  },
  {
   "cell_type": "markdown",
   "id": "26927c9a",
   "metadata": {
    "papermill": {
     "duration": 0.005857,
     "end_time": "2023-01-24T09:46:15.639837",
     "exception": false,
     "start_time": "2023-01-24T09:46:15.633980",
     "status": "completed"
    },
    "tags": []
   },
   "source": [
    "## Train-Test Split\n",
    "\n",
    "We train/test split in machine learning to evaluate the performance of a model on unseen data. The training set is used to train the model, while the test set is used to evaluate the model's performance. \n",
    "\n",
    "This allows us to estimate how well the model will perform on new, unseen data, and identify any overfitting or underfitting issues with the model."
   ]
  },
  {
   "cell_type": "code",
   "execution_count": 9,
   "id": "aaeae799",
   "metadata": {
    "execution": {
     "iopub.execute_input": "2023-01-24T09:46:15.653864Z",
     "iopub.status.busy": "2023-01-24T09:46:15.653442Z",
     "iopub.status.idle": "2023-01-24T09:46:15.671162Z",
     "shell.execute_reply": "2023-01-24T09:46:15.669434Z"
    },
    "papermill": {
     "duration": 0.027798,
     "end_time": "2023-01-24T09:46:15.673680",
     "exception": false,
     "start_time": "2023-01-24T09:46:15.645882",
     "status": "completed"
    },
    "tags": []
   },
   "outputs": [
    {
     "name": "stdout",
     "output_type": "stream",
     "text": [
      "Before training models our train set has (1460, 60) rows and columns and our test set has (1459, 60) rows and columns.\n"
     ]
    }
   ],
   "source": [
    "# resplit into train and test sets\n",
    "X_train = df_all[df_all['train_test'] == 'Train'].drop(['train_test'], axis =1)\n",
    "X_test = df_all[df_all['train_test'] == 'Test'].drop(['train_test'], axis =1)\n",
    "y_train = df_all[df_all['train_test'] == 'Train']['SalePrice']\n",
    "y_test = df_all[df_all['train_test'] == 'Test']['SalePrice']\n",
    "\n",
    "print(f'Before training models our train set has {X_train.shape} rows and columns and our test set has {X_test.shape} rows and columns.')"
   ]
  },
  {
   "cell_type": "markdown",
   "id": "dbf107dd",
   "metadata": {
    "papermill": {
     "duration": 0.005863,
     "end_time": "2023-01-24T09:46:15.685721",
     "exception": false,
     "start_time": "2023-01-24T09:46:15.679858",
     "status": "completed"
    },
    "tags": []
   },
   "source": [
    "# Conclusion <a id=\"conc\"></a>\n",
    "\n",
    "Our data is now ready for machine learning!\n",
    "\n",
    "In this notebook we have taken our data from a rough, uncut gem, to a shinning diamond, ready for modelling!\n",
    "\n",
    "* First we removed any remaining null values, to make sure our dataset is clean and machine readable\n",
    "\n",
    "* Next we encoded all our categorical features to numerical 1's and 0's\n",
    "\n",
    "* And last but not least, we scaled our numerical values to make them equal in the eyes of our model\n",
    "\n",
    "**Now our data is ready to do the fun part - Modelling! This will be the next step in our journey, stay tuned and take care!**"
   ]
  }
 ],
 "metadata": {
  "kernelspec": {
   "display_name": "Python 3",
   "language": "python",
   "name": "python3"
  },
  "language_info": {
   "codemirror_mode": {
    "name": "ipython",
    "version": 3
   },
   "file_extension": ".py",
   "mimetype": "text/x-python",
   "name": "python",
   "nbconvert_exporter": "python",
   "pygments_lexer": "ipython3",
   "version": "3.7.12"
  },
  "papermill": {
   "default_parameters": {},
   "duration": 11.795787,
   "end_time": "2023-01-24T09:46:16.513373",
   "environment_variables": {},
   "exception": null,
   "input_path": "__notebook__.ipynb",
   "output_path": "__notebook__.ipynb",
   "parameters": {},
   "start_time": "2023-01-24T09:46:04.717586",
   "version": "2.3.4"
  }
 },
 "nbformat": 4,
 "nbformat_minor": 5
}

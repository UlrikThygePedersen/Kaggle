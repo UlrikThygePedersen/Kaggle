{
 "cells": [
  {
   "cell_type": "markdown",
   "id": "d685cae8",
   "metadata": {
    "papermill": {
     "duration": 0.003273,
     "end_time": "2023-01-12T18:31:55.806655",
     "exception": false,
     "start_time": "2023-01-12T18:31:55.803382",
     "status": "completed"
    },
    "tags": []
   },
   "source": [
    "# Import pandas and import csv"
   ]
  },
  {
   "cell_type": "code",
   "execution_count": 1,
   "id": "720cbdc0",
   "metadata": {
    "_cell_guid": "b1076dfc-b9ad-4769-8c92-a6c4dae69d19",
    "_uuid": "8f2839f25d086af736a60e9eeb907d3b93b6e0e5",
    "execution": {
     "iopub.execute_input": "2023-01-12T18:31:55.813708Z",
     "iopub.status.busy": "2023-01-12T18:31:55.813238Z",
     "iopub.status.idle": "2023-01-12T18:31:56.069181Z",
     "shell.execute_reply": "2023-01-12T18:31:56.067939Z"
    },
    "papermill": {
     "duration": 0.2633,
     "end_time": "2023-01-12T18:31:56.072552",
     "exception": false,
     "start_time": "2023-01-12T18:31:55.809252",
     "status": "completed"
    },
    "tags": []
   },
   "outputs": [],
   "source": [
    "import pandas as pd\n",
    "\n",
    "df1 = pd.read_csv('/kaggle/input/path-of-exile-currency-economy-of-an-online-game/path_of_exile_currency_hardcore_kalandra.csv')\n",
    "df2 = pd.read_csv('/kaggle/input/path-of-exile-currency-economy-of-an-online-game/path_of_exile_currency_hardcore_standard.csv')\n",
    "df3 = pd.read_csv('/kaggle/input/path-of-exile-currency-economy-of-an-online-game/path_of_exile_currency_kalandra.csv')\n",
    "df4 = pd.read_csv('/kaggle/input/path-of-exile-currency-economy-of-an-online-game/path_of_exile_currency_standard.csv')"
   ]
  },
  {
   "cell_type": "markdown",
   "id": "bacfb469",
   "metadata": {
    "papermill": {
     "duration": 0.002085,
     "end_time": "2023-01-12T18:31:56.077183",
     "exception": false,
     "start_time": "2023-01-12T18:31:56.075098",
     "status": "completed"
    },
    "tags": []
   },
   "source": [
    "# Merging the datasets"
   ]
  },
  {
   "cell_type": "code",
   "execution_count": 2,
   "id": "26a17c9b",
   "metadata": {
    "execution": {
     "iopub.execute_input": "2023-01-12T18:31:56.083235Z",
     "iopub.status.busy": "2023-01-12T18:31:56.082864Z",
     "iopub.status.idle": "2023-01-12T18:31:56.113273Z",
     "shell.execute_reply": "2023-01-12T18:31:56.111832Z"
    },
    "papermill": {
     "duration": 0.036599,
     "end_time": "2023-01-12T18:31:56.115981",
     "exception": false,
     "start_time": "2023-01-12T18:31:56.079382",
     "status": "completed"
    },
    "tags": []
   },
   "outputs": [],
   "source": [
    "dataframes = [df1, df2, df3, df4]\n",
    "\n",
    "df = pd.concat(dataframes)"
   ]
  },
  {
   "cell_type": "markdown",
   "id": "c771fd0f",
   "metadata": {
    "papermill": {
     "duration": 0.002028,
     "end_time": "2023-01-12T18:31:56.120598",
     "exception": false,
     "start_time": "2023-01-12T18:31:56.118570",
     "status": "completed"
    },
    "tags": []
   },
   "source": [
    "# Print basic information about the dataset"
   ]
  },
  {
   "cell_type": "code",
   "execution_count": 3,
   "id": "4d9df66f",
   "metadata": {
    "execution": {
     "iopub.execute_input": "2023-01-12T18:31:56.126768Z",
     "iopub.status.busy": "2023-01-12T18:31:56.126356Z",
     "iopub.status.idle": "2023-01-12T18:31:56.148097Z",
     "shell.execute_reply": "2023-01-12T18:31:56.146745Z"
    },
    "papermill": {
     "duration": 0.027804,
     "end_time": "2023-01-12T18:31:56.150660",
     "exception": false,
     "start_time": "2023-01-12T18:31:56.122856",
     "status": "completed"
    },
    "tags": []
   },
   "outputs": [
    {
     "data": {
      "text/html": [
       "<div>\n",
       "<style scoped>\n",
       "    .dataframe tbody tr th:only-of-type {\n",
       "        vertical-align: middle;\n",
       "    }\n",
       "\n",
       "    .dataframe tbody tr th {\n",
       "        vertical-align: top;\n",
       "    }\n",
       "\n",
       "    .dataframe thead th {\n",
       "        text-align: right;\n",
       "    }\n",
       "</style>\n",
       "<table border=\"1\" class=\"dataframe\">\n",
       "  <thead>\n",
       "    <tr style=\"text-align: right;\">\n",
       "      <th></th>\n",
       "      <th>League</th>\n",
       "      <th>Date</th>\n",
       "      <th>Get</th>\n",
       "      <th>Pay</th>\n",
       "      <th>Value</th>\n",
       "      <th>Confidence</th>\n",
       "      <th>Patch</th>\n",
       "      <th>Hardcore</th>\n",
       "      <th>Standard</th>\n",
       "    </tr>\n",
       "  </thead>\n",
       "  <tbody>\n",
       "    <tr>\n",
       "      <th>0</th>\n",
       "      <td>Hardcore Kalandra</td>\n",
       "      <td>2022-08-19</td>\n",
       "      <td>Blacksmith's Whetstone</td>\n",
       "      <td>Chaos Orb</td>\n",
       "      <td>1.00000</td>\n",
       "      <td>Low</td>\n",
       "      <td>3.19</td>\n",
       "      <td>Yes</td>\n",
       "      <td>No</td>\n",
       "    </tr>\n",
       "    <tr>\n",
       "      <th>1</th>\n",
       "      <td>Hardcore Kalandra</td>\n",
       "      <td>2022-08-20</td>\n",
       "      <td>Blacksmith's Whetstone</td>\n",
       "      <td>Chaos Orb</td>\n",
       "      <td>0.09250</td>\n",
       "      <td>Medium</td>\n",
       "      <td>3.19</td>\n",
       "      <td>Yes</td>\n",
       "      <td>No</td>\n",
       "    </tr>\n",
       "    <tr>\n",
       "      <th>2</th>\n",
       "      <td>Hardcore Kalandra</td>\n",
       "      <td>2022-08-21</td>\n",
       "      <td>Blacksmith's Whetstone</td>\n",
       "      <td>Chaos Orb</td>\n",
       "      <td>0.07143</td>\n",
       "      <td>High</td>\n",
       "      <td>3.19</td>\n",
       "      <td>Yes</td>\n",
       "      <td>No</td>\n",
       "    </tr>\n",
       "    <tr>\n",
       "      <th>3</th>\n",
       "      <td>Hardcore Kalandra</td>\n",
       "      <td>2022-08-22</td>\n",
       "      <td>Blacksmith's Whetstone</td>\n",
       "      <td>Chaos Orb</td>\n",
       "      <td>0.03975</td>\n",
       "      <td>High</td>\n",
       "      <td>3.19</td>\n",
       "      <td>Yes</td>\n",
       "      <td>No</td>\n",
       "    </tr>\n",
       "    <tr>\n",
       "      <th>4</th>\n",
       "      <td>Hardcore Kalandra</td>\n",
       "      <td>2022-08-23</td>\n",
       "      <td>Blacksmith's Whetstone</td>\n",
       "      <td>Chaos Orb</td>\n",
       "      <td>0.03048</td>\n",
       "      <td>High</td>\n",
       "      <td>3.19</td>\n",
       "      <td>Yes</td>\n",
       "      <td>No</td>\n",
       "    </tr>\n",
       "  </tbody>\n",
       "</table>\n",
       "</div>"
      ],
      "text/plain": [
       "              League        Date                     Get        Pay    Value  \\\n",
       "0  Hardcore Kalandra  2022-08-19  Blacksmith's Whetstone  Chaos Orb  1.00000   \n",
       "1  Hardcore Kalandra  2022-08-20  Blacksmith's Whetstone  Chaos Orb  0.09250   \n",
       "2  Hardcore Kalandra  2022-08-21  Blacksmith's Whetstone  Chaos Orb  0.07143   \n",
       "3  Hardcore Kalandra  2022-08-22  Blacksmith's Whetstone  Chaos Orb  0.03975   \n",
       "4  Hardcore Kalandra  2022-08-23  Blacksmith's Whetstone  Chaos Orb  0.03048   \n",
       "\n",
       "  Confidence  Patch Hardcore Standard  \n",
       "0        Low   3.19      Yes       No  \n",
       "1     Medium   3.19      Yes       No  \n",
       "2       High   3.19      Yes       No  \n",
       "3       High   3.19      Yes       No  \n",
       "4       High   3.19      Yes       No  "
      ]
     },
     "execution_count": 3,
     "metadata": {},
     "output_type": "execute_result"
    }
   ],
   "source": [
    "df.head()"
   ]
  },
  {
   "cell_type": "code",
   "execution_count": 4,
   "id": "01fa9ddf",
   "metadata": {
    "execution": {
     "iopub.execute_input": "2023-01-12T18:31:56.157143Z",
     "iopub.status.busy": "2023-01-12T18:31:56.156810Z",
     "iopub.status.idle": "2023-01-12T18:31:56.211217Z",
     "shell.execute_reply": "2023-01-12T18:31:56.209869Z"
    },
    "papermill": {
     "duration": 0.061172,
     "end_time": "2023-01-12T18:31:56.214423",
     "exception": false,
     "start_time": "2023-01-12T18:31:56.153251",
     "status": "completed"
    },
    "tags": []
   },
   "outputs": [
    {
     "name": "stdout",
     "output_type": "stream",
     "text": [
      "<class 'pandas.core.frame.DataFrame'>\n",
      "Int64Index: 103535 entries, 0 to 38002\n",
      "Data columns (total 9 columns):\n",
      " #   Column      Non-Null Count   Dtype  \n",
      "---  ------      --------------   -----  \n",
      " 0   League      103535 non-null  object \n",
      " 1   Date        103535 non-null  object \n",
      " 2   Get         103535 non-null  object \n",
      " 3   Pay         103535 non-null  object \n",
      " 4   Value       103535 non-null  float64\n",
      " 5   Confidence  103535 non-null  object \n",
      " 6   Patch       103535 non-null  float64\n",
      " 7   Hardcore    103535 non-null  object \n",
      " 8   Standard    103535 non-null  object \n",
      "dtypes: float64(2), object(7)\n",
      "memory usage: 7.9+ MB\n"
     ]
    }
   ],
   "source": [
    "df.info()"
   ]
  },
  {
   "cell_type": "code",
   "execution_count": 5,
   "id": "c2c69489",
   "metadata": {
    "execution": {
     "iopub.execute_input": "2023-01-12T18:31:56.223048Z",
     "iopub.status.busy": "2023-01-12T18:31:56.222383Z",
     "iopub.status.idle": "2023-01-12T18:31:56.257227Z",
     "shell.execute_reply": "2023-01-12T18:31:56.256393Z"
    },
    "papermill": {
     "duration": 0.040795,
     "end_time": "2023-01-12T18:31:56.258854",
     "exception": false,
     "start_time": "2023-01-12T18:31:56.218059",
     "status": "completed"
    },
    "tags": []
   },
   "outputs": [
    {
     "data": {
      "text/html": [
       "<div>\n",
       "<style scoped>\n",
       "    .dataframe tbody tr th:only-of-type {\n",
       "        vertical-align: middle;\n",
       "    }\n",
       "\n",
       "    .dataframe tbody tr th {\n",
       "        vertical-align: top;\n",
       "    }\n",
       "\n",
       "    .dataframe thead th {\n",
       "        text-align: right;\n",
       "    }\n",
       "</style>\n",
       "<table border=\"1\" class=\"dataframe\">\n",
       "  <thead>\n",
       "    <tr style=\"text-align: right;\">\n",
       "      <th></th>\n",
       "      <th>Value</th>\n",
       "      <th>Patch</th>\n",
       "    </tr>\n",
       "  </thead>\n",
       "  <tbody>\n",
       "    <tr>\n",
       "      <th>count</th>\n",
       "      <td>103535.000000</td>\n",
       "      <td>1.035350e+05</td>\n",
       "    </tr>\n",
       "    <tr>\n",
       "      <th>mean</th>\n",
       "      <td>378.787291</td>\n",
       "      <td>3.190000e+00</td>\n",
       "    </tr>\n",
       "    <tr>\n",
       "      <th>std</th>\n",
       "      <td>5749.000987</td>\n",
       "      <td>8.881827e-16</td>\n",
       "    </tr>\n",
       "    <tr>\n",
       "      <th>min</th>\n",
       "      <td>0.000010</td>\n",
       "      <td>3.190000e+00</td>\n",
       "    </tr>\n",
       "    <tr>\n",
       "      <th>25%</th>\n",
       "      <td>0.142860</td>\n",
       "      <td>3.190000e+00</td>\n",
       "    </tr>\n",
       "    <tr>\n",
       "      <th>50%</th>\n",
       "      <td>1.957140</td>\n",
       "      <td>3.190000e+00</td>\n",
       "    </tr>\n",
       "    <tr>\n",
       "      <th>75%</th>\n",
       "      <td>15.729165</td>\n",
       "      <td>3.190000e+00</td>\n",
       "    </tr>\n",
       "    <tr>\n",
       "      <th>max</th>\n",
       "      <td>280000.000000</td>\n",
       "      <td>3.190000e+00</td>\n",
       "    </tr>\n",
       "  </tbody>\n",
       "</table>\n",
       "</div>"
      ],
      "text/plain": [
       "               Value         Patch\n",
       "count  103535.000000  1.035350e+05\n",
       "mean      378.787291  3.190000e+00\n",
       "std      5749.000987  8.881827e-16\n",
       "min         0.000010  3.190000e+00\n",
       "25%         0.142860  3.190000e+00\n",
       "50%         1.957140  3.190000e+00\n",
       "75%        15.729165  3.190000e+00\n",
       "max    280000.000000  3.190000e+00"
      ]
     },
     "execution_count": 5,
     "metadata": {},
     "output_type": "execute_result"
    }
   ],
   "source": [
    "df.describe()"
   ]
  }
 ],
 "metadata": {
  "kernelspec": {
   "display_name": "Python 3",
   "language": "python",
   "name": "python3"
  },
  "language_info": {
   "codemirror_mode": {
    "name": "ipython",
    "version": 3
   },
   "file_extension": ".py",
   "mimetype": "text/x-python",
   "name": "python",
   "nbconvert_exporter": "python",
   "pygments_lexer": "ipython3",
   "version": "3.7.12"
  },
  "papermill": {
   "default_parameters": {},
   "duration": 9.028411,
   "end_time": "2023-01-12T18:31:56.884242",
   "environment_variables": {},
   "exception": null,
   "input_path": "__notebook__.ipynb",
   "output_path": "__notebook__.ipynb",
   "parameters": {},
   "start_time": "2023-01-12T18:31:47.855831",
   "version": "2.3.4"
  }
 },
 "nbformat": 4,
 "nbformat_minor": 5
}
